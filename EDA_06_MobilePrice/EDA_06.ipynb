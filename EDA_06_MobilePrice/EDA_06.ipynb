{
 "cells": [
  {
   "cell_type": "markdown",
   "id": "558bf3aa",
   "metadata": {},
   "source": [
    "## Exploratory Data Analysis-06\n",
    "https://docs.google.com/spreadsheets/d/1tCOEPlVy45q11xHQhEtTV2X4KBPr62mZhoXCu6hqzP8/edit#gid=1268594260"
   ]
  },
  {
   "cell_type": "raw",
   "id": "791079b1",
   "metadata": {},
   "source": [
    "# Questions:\n",
    "    1.\tWhat is the shape of the dataset?\n",
    "    2.\tWhat are the data types of each column?\n",
    "    3.\tAre there any missing values in the dataset?\n",
    "    4.\tHow many unique values are there in the \"mobile_wt\" column?\n",
    "    5.\tWhat is the average battery power of the mobile phones in the dataset?\n",
    "    6.\tWhat is the distribution of battery power in the dataset?\n",
    "    7.\tHow many mobile phones have a dual sim support?\n",
    "    8.\tWhat is the maximum and minimum internal memory in the dataset?\n",
    "    9.\tWhat is the distribution of internal memory in the dataset?\n",
    "    10.\tHow many mobile phones have 4G support?\n",
    "    11.\tWhat is the average weight of mobile phones in the dataset?\n",
    "    12.\tWhat is the maximum and minimum RAM size in the dataset?\n",
    "    13.\tHow many mobile phones have a touch screen and 4G support?\n",
    "    14.\tWhat is the average internal memory capacity of mobile phones with 4G support and a primary camera quality of 8 \n",
    "        megapixels or higher?\n",
    "    15.\tWhich mobile phone has the highest RAM size and what are its other specifications?\n",
    "    16.\tWhat is the distribution of battery power for mobile phones with a weight between 150 and 200 grams?\n",
    "    17.\tHow many mobile phones have a primary camera quality of 8 megapixels or higher and a touch screen?\n",
    "    18.\tWhat is the average weight of mobile phones with 4G support and a touch screen?\n",
    "    19.\tHow many mobile phones have a battery power greater than 3000 mAh and a talk time greater than 20 hours?\n",
    "    20.\tWhich mobile phone has the highest primary camera quality and what are its other specifications?\n",
    "    21.\tHow many mobile phones have a battery power greater than the average battery power of all \n",
    "        mobile phones in the dataset and a primary camera quality of 10 megapixels or higher?\n",
    "    22.\tIs there a correlation between battery power and screen size?\n",
    "    23.\tHow does the number of processor cores affect the battery life of mobile phones?\n",
    "    24.\tIs there a relationship between the weight of a mobile phone and the quality of its primary camera?\n"
   ]
  },
  {
   "cell_type": "code",
   "execution_count": null,
   "id": "6e29e54e",
   "metadata": {},
   "outputs": [],
   "source": [
    "# # Shape of the dataset\n",
    "# df.shape\n",
    "\n",
    "# # Checking noise values\n",
    "# for i in df.columns:\n",
    "#     print(i,'\\n', df[i].sort_values().unique())\n",
    "    \n",
    "# # Checking null values\n",
    "# df.isnull().sum()\n",
    "\n",
    "# # Checking duplicates\n",
    "# df[df.duplicated()==True]\n",
    "\n",
    "# # Checking data types\n",
    "# df.dtypes\n",
    "\n",
    "# # 5-point summary\n",
    "# df.describe()"
   ]
  },
  {
   "cell_type": "code",
   "execution_count": 2,
   "id": "a8ca23c5",
   "metadata": {},
   "outputs": [],
   "source": [
    "# Importing libraries\n",
    "import numpy as np\n",
    "import pandas as pd\n",
    "import matplotlib.pyplot as plt\n",
    "import seaborn as sns"
   ]
  },
  {
   "cell_type": "code",
   "execution_count": 3,
   "id": "cc776a58",
   "metadata": {},
   "outputs": [],
   "source": [
    "# Reading the dataset\n",
    "df=pd.read_csv('E:/Exploratory_Data_Analysis/EDA_06_MobilePrice.csv')"
   ]
  },
  {
   "cell_type": "code",
   "execution_count": 4,
   "id": "a8bc54f7",
   "metadata": {},
   "outputs": [],
   "source": [
    "pd.set_option('display.max_columns',None)"
   ]
  },
  {
   "cell_type": "code",
   "execution_count": 5,
   "id": "373edaf0",
   "metadata": {},
   "outputs": [
    {
     "data": {
      "text/html": [
       "<div>\n",
       "<style scoped>\n",
       "    .dataframe tbody tr th:only-of-type {\n",
       "        vertical-align: middle;\n",
       "    }\n",
       "\n",
       "    .dataframe tbody tr th {\n",
       "        vertical-align: top;\n",
       "    }\n",
       "\n",
       "    .dataframe thead th {\n",
       "        text-align: right;\n",
       "    }\n",
       "</style>\n",
       "<table border=\"1\" class=\"dataframe\">\n",
       "  <thead>\n",
       "    <tr style=\"text-align: right;\">\n",
       "      <th></th>\n",
       "      <th>battery_power</th>\n",
       "      <th>blue</th>\n",
       "      <th>clock_speed</th>\n",
       "      <th>dual_sim</th>\n",
       "      <th>fc</th>\n",
       "      <th>four_g</th>\n",
       "      <th>int_memory</th>\n",
       "      <th>m_dep</th>\n",
       "      <th>mobile_wt</th>\n",
       "      <th>n_cores</th>\n",
       "      <th>pc</th>\n",
       "      <th>px_height</th>\n",
       "      <th>px_width</th>\n",
       "      <th>ram</th>\n",
       "      <th>sc_h</th>\n",
       "      <th>sc_w</th>\n",
       "      <th>talk_time</th>\n",
       "      <th>three_g</th>\n",
       "      <th>touch_screen</th>\n",
       "      <th>wifi</th>\n",
       "      <th>price_range</th>\n",
       "    </tr>\n",
       "  </thead>\n",
       "  <tbody>\n",
       "    <tr>\n",
       "      <th>0</th>\n",
       "      <td>842</td>\n",
       "      <td>0.0</td>\n",
       "      <td>2.2</td>\n",
       "      <td>0.0</td>\n",
       "      <td>1</td>\n",
       "      <td>0</td>\n",
       "      <td>7.0</td>\n",
       "      <td>0.6</td>\n",
       "      <td>188</td>\n",
       "      <td>2</td>\n",
       "      <td>2.0</td>\n",
       "      <td>20.0</td>\n",
       "      <td>756</td>\n",
       "      <td>2,549.00</td>\n",
       "      <td>9</td>\n",
       "      <td>7</td>\n",
       "      <td>19</td>\n",
       "      <td>0</td>\n",
       "      <td>0</td>\n",
       "      <td>1</td>\n",
       "      <td>1.0</td>\n",
       "    </tr>\n",
       "    <tr>\n",
       "      <th>1</th>\n",
       "      <td>1021</td>\n",
       "      <td>1.0</td>\n",
       "      <td>0.5</td>\n",
       "      <td>1.0</td>\n",
       "      <td>0</td>\n",
       "      <td>1</td>\n",
       "      <td>53.0</td>\n",
       "      <td>0.7</td>\n",
       "      <td>136</td>\n",
       "      <td>3</td>\n",
       "      <td>6.0</td>\n",
       "      <td>905.0</td>\n",
       "      <td>1988</td>\n",
       "      <td>2,631.00</td>\n",
       "      <td>17</td>\n",
       "      <td>3</td>\n",
       "      <td>7</td>\n",
       "      <td>1</td>\n",
       "      <td>1</td>\n",
       "      <td>0</td>\n",
       "      <td>2.0</td>\n",
       "    </tr>\n",
       "    <tr>\n",
       "      <th>2</th>\n",
       "      <td>563</td>\n",
       "      <td>1.0</td>\n",
       "      <td>0.5</td>\n",
       "      <td>1.0</td>\n",
       "      <td>2</td>\n",
       "      <td>1</td>\n",
       "      <td>41.0</td>\n",
       "      <td>0.9</td>\n",
       "      <td>145</td>\n",
       "      <td>5</td>\n",
       "      <td>6.0</td>\n",
       "      <td>1263.0</td>\n",
       "      <td>1716</td>\n",
       "      <td>2,603.00</td>\n",
       "      <td>11</td>\n",
       "      <td>2</td>\n",
       "      <td>9</td>\n",
       "      <td>1</td>\n",
       "      <td>1</td>\n",
       "      <td>0</td>\n",
       "      <td>2.0</td>\n",
       "    </tr>\n",
       "    <tr>\n",
       "      <th>3</th>\n",
       "      <td>615</td>\n",
       "      <td>1.0</td>\n",
       "      <td>2.5</td>\n",
       "      <td>0.0</td>\n",
       "      <td>0</td>\n",
       "      <td>0</td>\n",
       "      <td>10.0</td>\n",
       "      <td>0.8</td>\n",
       "      <td>131</td>\n",
       "      <td>6</td>\n",
       "      <td>9.0</td>\n",
       "      <td>1216.0</td>\n",
       "      <td>1786</td>\n",
       "      <td>2,769.00</td>\n",
       "      <td>16</td>\n",
       "      <td>8</td>\n",
       "      <td>11</td>\n",
       "      <td>1</td>\n",
       "      <td>0</td>\n",
       "      <td>0</td>\n",
       "      <td>2.0</td>\n",
       "    </tr>\n",
       "    <tr>\n",
       "      <th>4</th>\n",
       "      <td>1821</td>\n",
       "      <td>1.0</td>\n",
       "      <td>1.2</td>\n",
       "      <td>0.0</td>\n",
       "      <td>13</td>\n",
       "      <td>1</td>\n",
       "      <td>44.0</td>\n",
       "      <td>0.6</td>\n",
       "      <td>141</td>\n",
       "      <td>2</td>\n",
       "      <td>14.0</td>\n",
       "      <td>1208.0</td>\n",
       "      <td>1212</td>\n",
       "      <td>1,411.00</td>\n",
       "      <td>8</td>\n",
       "      <td>2</td>\n",
       "      <td>15</td>\n",
       "      <td>1</td>\n",
       "      <td>1</td>\n",
       "      <td>0</td>\n",
       "      <td>1.0</td>\n",
       "    </tr>\n",
       "  </tbody>\n",
       "</table>\n",
       "</div>"
      ],
      "text/plain": [
       "  battery_power  blue  clock_speed  dual_sim  fc  four_g  int_memory  m_dep  \\\n",
       "0           842   0.0          2.2       0.0   1       0         7.0    0.6   \n",
       "1          1021   1.0          0.5       1.0   0       1        53.0    0.7   \n",
       "2           563   1.0          0.5       1.0   2       1        41.0    0.9   \n",
       "3           615   1.0          2.5       0.0   0       0        10.0    0.8   \n",
       "4          1821   1.0          1.2       0.0  13       1        44.0    0.6   \n",
       "\n",
       "  mobile_wt  n_cores    pc  px_height px_width       ram  sc_h  sc_w  \\\n",
       "0       188        2   2.0       20.0      756  2,549.00     9     7   \n",
       "1       136        3   6.0      905.0     1988  2,631.00    17     3   \n",
       "2       145        5   6.0     1263.0     1716  2,603.00    11     2   \n",
       "3       131        6   9.0     1216.0     1786  2,769.00    16     8   \n",
       "4       141        2  14.0     1208.0     1212  1,411.00     8     2   \n",
       "\n",
       "   talk_time  three_g  touch_screen  wifi  price_range  \n",
       "0         19        0             0     1          1.0  \n",
       "1          7        1             1     0          2.0  \n",
       "2          9        1             1     0          2.0  \n",
       "3         11        1             0     0          2.0  \n",
       "4         15        1             1     0          1.0  "
      ]
     },
     "execution_count": 5,
     "metadata": {},
     "output_type": "execute_result"
    }
   ],
   "source": [
    "df.head()"
   ]
  },
  {
   "cell_type": "code",
   "execution_count": 15,
   "id": "c79c6e14",
   "metadata": {
    "scrolled": true
   },
   "outputs": [
    {
     "name": "stdout",
     "output_type": "stream",
     "text": [
      "battery_power \n",
      " [ 501.  502.  503. ... 1996. 1997. 1998.]\n",
      "blue \n",
      " [0. 1.]\n",
      "clock_speed \n",
      " [0.5 0.6 0.7 0.8 0.9 1.  1.1 1.2 1.3 1.4 1.5 1.6 1.7 1.8 1.9 2.  2.1 2.2\n",
      " 2.3 2.4 2.5 2.6 2.7 2.8 2.9 3. ]\n",
      "dual_sim \n",
      " [0. 1.]\n",
      "fc \n",
      " [ 0.  1.  2.  3.  4.  5.  6.  7.  8.  9. 10. 11. 12. 13. 14. 15. 16. 17.\n",
      " 18. 19.]\n",
      "four_g \n",
      " [0. 1.]\n",
      "int_memory \n",
      " [ 2.  3.  4.  5.  6.  7.  8.  9. 10. 11. 12. 13. 14. 15. 16. 17. 18. 19.\n",
      " 20. 21. 22. 23. 24. 25. 26. 27. 28. 29. 30. 31. 32. 33. 34. 35. 36. 37.\n",
      " 38. 39. 40. 41. 42. 43. 44. 45. 46. 47. 48. 49. 50. 51. 52. 53. 54. 55.\n",
      " 56. 57. 58. 59. 60. 61. 62. 63. 64.]\n",
      "m_dep \n",
      " [0.1 0.2 0.3 0.4 0.5 0.6 0.7 0.8 0.9 1. ]\n",
      "mobile_wt \n",
      " [ 80.  81.  82.  83.  84.  85.  86.  87.  88.  89.  90.  91.  92.  93.\n",
      "  94.  95.  96.  97.  98.  99. 100. 101. 102. 103. 104. 105. 106. 107.\n",
      " 108. 109. 110. 111. 112. 113. 114. 115. 116. 117. 118. 119. 120. 121.\n",
      " 122. 123. 124. 125. 126. 127. 128. 129. 130. 131. 132. 133. 134. 135.\n",
      " 136. 137. 138. 139. 140. 141. 142. 143. 144. 145. 146. 147. 148. 149.\n",
      " 150. 151. 152. 153. 154. 155. 156. 157. 158. 159. 160. 161. 162. 163.\n",
      " 164. 165. 166. 167. 168. 169. 170. 171. 172. 173. 174. 175. 176. 177.\n",
      " 178. 179. 180. 181. 182. 183. 184. 185. 186. 187. 188. 189. 190. 191.\n",
      " 192. 193. 194. 195. 196. 197. 198. 199. 200.]\n",
      "n_cores \n",
      " [1. 2. 3. 4. 5. 6. 7. 8.]\n",
      "pc \n",
      " [ 0.  1.  2.  3.  4.  5.  6.  7.  8.  9. 10. 11. 12. 13. 14. 15. 16. 17.\n",
      " 18. 19. 20.]\n",
      "px_height \n",
      " [0.000e+00 1.000e+00 2.000e+00 ... 1.920e+03 1.949e+03 1.960e+03]\n",
      "px_width \n",
      " [ 500.  501.  503. ... 1996. 1997. 1998.]\n",
      "ram \n",
      " [ 256.  258.  259. ... 3993. 3996. 3998.]\n",
      "sc_h \n",
      " [ 5.  6.  7.  8.  9. 10. 11. 12. 13. 14. 15. 16. 17. 18. 19.]\n",
      "sc_w \n",
      " [ 0.  1.  2.  3.  4.  5.  6.  7.  8.  9. 10. 11. 12. 13. 14. 15. 16. 17.\n",
      " 18.]\n",
      "talk_time \n",
      " [ 2.  3.  4.  5.  6.  7.  8.  9. 10. 11. 12. 13. 14. 15. 16. 17. 18. 19.\n",
      " 20.]\n",
      "three_g \n",
      " [0. 1.]\n",
      "touch_screen \n",
      " [0. 1.]\n",
      "wifi \n",
      " [0. 1.]\n",
      "price_range \n",
      " [0. 1. 2. 3.]\n"
     ]
    }
   ],
   "source": [
    "# Checkung for noise\n",
    "for i in df.columns:\n",
    "    print(i, '\\n', df[i].sort_values().unique())"
   ]
  },
  {
   "cell_type": "code",
   "execution_count": 6,
   "id": "f890ec0d",
   "metadata": {},
   "outputs": [],
   "source": [
    "# Handling noise value\n",
    "noise=['Qwerty','Realme','Wephone','Samsung','-','1993Oppo']\n",
    "for i in df.columns:\n",
    "    df[i]=df[i].replace(noise, np.nan)"
   ]
  },
  {
   "cell_type": "code",
   "execution_count": 7,
   "id": "098c2a95",
   "metadata": {},
   "outputs": [],
   "source": [
    "df['ram']=df['ram'].str.replace(',','')"
   ]
  },
  {
   "cell_type": "code",
   "execution_count": 8,
   "id": "d4dd76bd",
   "metadata": {},
   "outputs": [
    {
     "data": {
      "text/plain": [
       "(2001, 21)"
      ]
     },
     "execution_count": 8,
     "metadata": {},
     "output_type": "execute_result"
    }
   ],
   "source": [
    "# 1.\tWhat is the shape of the dataset?\n",
    "df.shape"
   ]
  },
  {
   "cell_type": "code",
   "execution_count": 9,
   "id": "f2d174ed",
   "metadata": {},
   "outputs": [
    {
     "data": {
      "text/plain": [
       "battery_power     object\n",
       "blue             float64\n",
       "clock_speed      float64\n",
       "dual_sim         float64\n",
       "fc                 int64\n",
       "four_g             int64\n",
       "int_memory       float64\n",
       "m_dep            float64\n",
       "mobile_wt         object\n",
       "n_cores            int64\n",
       "pc               float64\n",
       "px_height        float64\n",
       "px_width          object\n",
       "ram               object\n",
       "sc_h               int64\n",
       "sc_w               int64\n",
       "talk_time          int64\n",
       "three_g            int64\n",
       "touch_screen       int64\n",
       "wifi               int64\n",
       "price_range      float64\n",
       "dtype: object"
      ]
     },
     "execution_count": 9,
     "metadata": {},
     "output_type": "execute_result"
    }
   ],
   "source": [
    "# 2.\tWhat are the data types of each column?\n",
    "df.dtypes"
   ]
  },
  {
   "cell_type": "code",
   "execution_count": 10,
   "id": "27b07542",
   "metadata": {},
   "outputs": [
    {
     "data": {
      "text/plain": [
       "battery_power    4\n",
       "blue             1\n",
       "clock_speed      3\n",
       "dual_sim         1\n",
       "fc               0\n",
       "four_g           0\n",
       "int_memory       1\n",
       "m_dep            1\n",
       "mobile_wt        2\n",
       "n_cores          0\n",
       "pc               1\n",
       "px_height        1\n",
       "px_width         3\n",
       "ram              2\n",
       "sc_h             0\n",
       "sc_w             0\n",
       "talk_time        0\n",
       "three_g          0\n",
       "touch_screen     0\n",
       "wifi             0\n",
       "price_range      2\n",
       "dtype: int64"
      ]
     },
     "execution_count": 10,
     "metadata": {},
     "output_type": "execute_result"
    }
   ],
   "source": [
    "# 3.\tAre there any missing values in the dataset?\n",
    "df.isnull().sum()"
   ]
  },
  {
   "cell_type": "code",
   "execution_count": 11,
   "id": "20e8d5ab",
   "metadata": {},
   "outputs": [],
   "source": [
    "# Handling null values\n",
    "for i in df.columns:\n",
    "    df[i]=df[i].fillna(df[i].median())"
   ]
  },
  {
   "cell_type": "code",
   "execution_count": 12,
   "id": "8956c7db",
   "metadata": {},
   "outputs": [
    {
     "name": "stdout",
     "output_type": "stream",
     "text": [
      "battery_power ---> 1092\n",
      "blue ---> 2\n",
      "clock_speed ---> 26\n",
      "dual_sim ---> 2\n",
      "fc ---> 20\n",
      "four_g ---> 2\n",
      "int_memory ---> 63\n",
      "m_dep ---> 10\n",
      "mobile_wt ---> 122\n",
      "n_cores ---> 8\n",
      "pc ---> 21\n",
      "px_height ---> 1136\n",
      "px_width ---> 1108\n",
      "ram ---> 1561\n",
      "sc_h ---> 15\n",
      "sc_w ---> 19\n",
      "talk_time ---> 19\n",
      "three_g ---> 2\n",
      "touch_screen ---> 2\n",
      "wifi ---> 2\n",
      "price_range ---> 4\n"
     ]
    }
   ],
   "source": [
    "for i in df.columns:\n",
    "    print(i, '--->', df[i].nunique())"
   ]
  },
  {
   "cell_type": "code",
   "execution_count": 13,
   "id": "e2f589ce",
   "metadata": {},
   "outputs": [],
   "source": [
    "for i in df.columns:\n",
    "    df[i]=df[i].astype('float64')"
   ]
  },
  {
   "cell_type": "code",
   "execution_count": 14,
   "id": "9341a124",
   "metadata": {},
   "outputs": [
    {
     "data": {
      "text/html": [
       "<div>\n",
       "<style scoped>\n",
       "    .dataframe tbody tr th:only-of-type {\n",
       "        vertical-align: middle;\n",
       "    }\n",
       "\n",
       "    .dataframe tbody tr th {\n",
       "        vertical-align: top;\n",
       "    }\n",
       "\n",
       "    .dataframe thead th {\n",
       "        text-align: right;\n",
       "    }\n",
       "</style>\n",
       "<table border=\"1\" class=\"dataframe\">\n",
       "  <thead>\n",
       "    <tr style=\"text-align: right;\">\n",
       "      <th></th>\n",
       "      <th>battery_power</th>\n",
       "      <th>blue</th>\n",
       "      <th>clock_speed</th>\n",
       "      <th>dual_sim</th>\n",
       "      <th>fc</th>\n",
       "      <th>four_g</th>\n",
       "      <th>int_memory</th>\n",
       "      <th>m_dep</th>\n",
       "      <th>mobile_wt</th>\n",
       "      <th>n_cores</th>\n",
       "      <th>pc</th>\n",
       "      <th>px_height</th>\n",
       "      <th>px_width</th>\n",
       "      <th>ram</th>\n",
       "      <th>sc_h</th>\n",
       "      <th>sc_w</th>\n",
       "      <th>talk_time</th>\n",
       "      <th>three_g</th>\n",
       "      <th>touch_screen</th>\n",
       "      <th>wifi</th>\n",
       "      <th>price_range</th>\n",
       "    </tr>\n",
       "  </thead>\n",
       "  <tbody>\n",
       "    <tr>\n",
       "      <th>count</th>\n",
       "      <td>2001.000000</td>\n",
       "      <td>2001.000000</td>\n",
       "      <td>2001.000000</td>\n",
       "      <td>2001.000000</td>\n",
       "      <td>2001.000000</td>\n",
       "      <td>2001.000000</td>\n",
       "      <td>2001.000000</td>\n",
       "      <td>2001.000000</td>\n",
       "      <td>2001.000000</td>\n",
       "      <td>2001.000000</td>\n",
       "      <td>2001.000000</td>\n",
       "      <td>2001.000000</td>\n",
       "      <td>2001.000000</td>\n",
       "      <td>2001.000000</td>\n",
       "      <td>2001.000000</td>\n",
       "      <td>2001.000000</td>\n",
       "      <td>2001.000000</td>\n",
       "      <td>2001.000000</td>\n",
       "      <td>2001.000000</td>\n",
       "      <td>2001.000000</td>\n",
       "      <td>2001.000000</td>\n",
       "    </tr>\n",
       "    <tr>\n",
       "      <th>mean</th>\n",
       "      <td>1238.420790</td>\n",
       "      <td>0.495252</td>\n",
       "      <td>1.523138</td>\n",
       "      <td>0.509745</td>\n",
       "      <td>4.309345</td>\n",
       "      <td>0.521739</td>\n",
       "      <td>32.054473</td>\n",
       "      <td>0.501599</td>\n",
       "      <td>140.263368</td>\n",
       "      <td>4.519740</td>\n",
       "      <td>9.926537</td>\n",
       "      <td>644.732134</td>\n",
       "      <td>1251.177911</td>\n",
       "      <td>2123.537731</td>\n",
       "      <td>12.304348</td>\n",
       "      <td>5.767616</td>\n",
       "      <td>11.015492</td>\n",
       "      <td>0.761619</td>\n",
       "      <td>0.502749</td>\n",
       "      <td>0.506747</td>\n",
       "      <td>1.498751</td>\n",
       "    </tr>\n",
       "    <tr>\n",
       "      <th>std</th>\n",
       "      <td>438.816918</td>\n",
       "      <td>0.500102</td>\n",
       "      <td>0.815873</td>\n",
       "      <td>0.500030</td>\n",
       "      <td>4.340364</td>\n",
       "      <td>0.499652</td>\n",
       "      <td>18.140274</td>\n",
       "      <td>0.288162</td>\n",
       "      <td>35.384292</td>\n",
       "      <td>2.287517</td>\n",
       "      <td>6.062928</td>\n",
       "      <td>443.555122</td>\n",
       "      <td>431.943139</td>\n",
       "      <td>1084.701283</td>\n",
       "      <td>4.213292</td>\n",
       "      <td>4.355396</td>\n",
       "      <td>5.466284</td>\n",
       "      <td>0.426200</td>\n",
       "      <td>0.500117</td>\n",
       "      <td>0.500079</td>\n",
       "      <td>1.118536</td>\n",
       "    </tr>\n",
       "    <tr>\n",
       "      <th>min</th>\n",
       "      <td>501.000000</td>\n",
       "      <td>0.000000</td>\n",
       "      <td>0.500000</td>\n",
       "      <td>0.000000</td>\n",
       "      <td>0.000000</td>\n",
       "      <td>0.000000</td>\n",
       "      <td>2.000000</td>\n",
       "      <td>0.100000</td>\n",
       "      <td>80.000000</td>\n",
       "      <td>1.000000</td>\n",
       "      <td>0.000000</td>\n",
       "      <td>0.000000</td>\n",
       "      <td>500.000000</td>\n",
       "      <td>256.000000</td>\n",
       "      <td>5.000000</td>\n",
       "      <td>0.000000</td>\n",
       "      <td>2.000000</td>\n",
       "      <td>0.000000</td>\n",
       "      <td>0.000000</td>\n",
       "      <td>0.000000</td>\n",
       "      <td>0.000000</td>\n",
       "    </tr>\n",
       "    <tr>\n",
       "      <th>25%</th>\n",
       "      <td>852.000000</td>\n",
       "      <td>0.000000</td>\n",
       "      <td>0.700000</td>\n",
       "      <td>0.000000</td>\n",
       "      <td>1.000000</td>\n",
       "      <td>0.000000</td>\n",
       "      <td>16.000000</td>\n",
       "      <td>0.200000</td>\n",
       "      <td>109.000000</td>\n",
       "      <td>3.000000</td>\n",
       "      <td>5.000000</td>\n",
       "      <td>283.000000</td>\n",
       "      <td>875.000000</td>\n",
       "      <td>1206.000000</td>\n",
       "      <td>9.000000</td>\n",
       "      <td>2.000000</td>\n",
       "      <td>6.000000</td>\n",
       "      <td>1.000000</td>\n",
       "      <td>0.000000</td>\n",
       "      <td>0.000000</td>\n",
       "      <td>0.000000</td>\n",
       "    </tr>\n",
       "    <tr>\n",
       "      <th>50%</th>\n",
       "      <td>1227.000000</td>\n",
       "      <td>0.000000</td>\n",
       "      <td>1.500000</td>\n",
       "      <td>1.000000</td>\n",
       "      <td>3.000000</td>\n",
       "      <td>1.000000</td>\n",
       "      <td>32.000000</td>\n",
       "      <td>0.500000</td>\n",
       "      <td>141.000000</td>\n",
       "      <td>4.000000</td>\n",
       "      <td>10.000000</td>\n",
       "      <td>564.000000</td>\n",
       "      <td>1247.000000</td>\n",
       "      <td>2146.000000</td>\n",
       "      <td>12.000000</td>\n",
       "      <td>5.000000</td>\n",
       "      <td>11.000000</td>\n",
       "      <td>1.000000</td>\n",
       "      <td>1.000000</td>\n",
       "      <td>1.000000</td>\n",
       "      <td>1.000000</td>\n",
       "    </tr>\n",
       "    <tr>\n",
       "      <th>75%</th>\n",
       "      <td>1615.000000</td>\n",
       "      <td>1.000000</td>\n",
       "      <td>2.200000</td>\n",
       "      <td>1.000000</td>\n",
       "      <td>7.000000</td>\n",
       "      <td>1.000000</td>\n",
       "      <td>48.000000</td>\n",
       "      <td>0.800000</td>\n",
       "      <td>170.000000</td>\n",
       "      <td>7.000000</td>\n",
       "      <td>15.000000</td>\n",
       "      <td>946.000000</td>\n",
       "      <td>1632.000000</td>\n",
       "      <td>3064.000000</td>\n",
       "      <td>16.000000</td>\n",
       "      <td>9.000000</td>\n",
       "      <td>16.000000</td>\n",
       "      <td>1.000000</td>\n",
       "      <td>1.000000</td>\n",
       "      <td>1.000000</td>\n",
       "      <td>2.000000</td>\n",
       "    </tr>\n",
       "    <tr>\n",
       "      <th>max</th>\n",
       "      <td>1998.000000</td>\n",
       "      <td>1.000000</td>\n",
       "      <td>3.000000</td>\n",
       "      <td>1.000000</td>\n",
       "      <td>19.000000</td>\n",
       "      <td>1.000000</td>\n",
       "      <td>64.000000</td>\n",
       "      <td>1.000000</td>\n",
       "      <td>200.000000</td>\n",
       "      <td>8.000000</td>\n",
       "      <td>20.000000</td>\n",
       "      <td>1960.000000</td>\n",
       "      <td>1998.000000</td>\n",
       "      <td>3998.000000</td>\n",
       "      <td>19.000000</td>\n",
       "      <td>18.000000</td>\n",
       "      <td>20.000000</td>\n",
       "      <td>1.000000</td>\n",
       "      <td>1.000000</td>\n",
       "      <td>1.000000</td>\n",
       "      <td>3.000000</td>\n",
       "    </tr>\n",
       "  </tbody>\n",
       "</table>\n",
       "</div>"
      ],
      "text/plain": [
       "       battery_power         blue  clock_speed     dual_sim           fc  \\\n",
       "count    2001.000000  2001.000000  2001.000000  2001.000000  2001.000000   \n",
       "mean     1238.420790     0.495252     1.523138     0.509745     4.309345   \n",
       "std       438.816918     0.500102     0.815873     0.500030     4.340364   \n",
       "min       501.000000     0.000000     0.500000     0.000000     0.000000   \n",
       "25%       852.000000     0.000000     0.700000     0.000000     1.000000   \n",
       "50%      1227.000000     0.000000     1.500000     1.000000     3.000000   \n",
       "75%      1615.000000     1.000000     2.200000     1.000000     7.000000   \n",
       "max      1998.000000     1.000000     3.000000     1.000000    19.000000   \n",
       "\n",
       "            four_g   int_memory        m_dep    mobile_wt      n_cores  \\\n",
       "count  2001.000000  2001.000000  2001.000000  2001.000000  2001.000000   \n",
       "mean      0.521739    32.054473     0.501599   140.263368     4.519740   \n",
       "std       0.499652    18.140274     0.288162    35.384292     2.287517   \n",
       "min       0.000000     2.000000     0.100000    80.000000     1.000000   \n",
       "25%       0.000000    16.000000     0.200000   109.000000     3.000000   \n",
       "50%       1.000000    32.000000     0.500000   141.000000     4.000000   \n",
       "75%       1.000000    48.000000     0.800000   170.000000     7.000000   \n",
       "max       1.000000    64.000000     1.000000   200.000000     8.000000   \n",
       "\n",
       "                pc    px_height     px_width          ram         sc_h  \\\n",
       "count  2001.000000  2001.000000  2001.000000  2001.000000  2001.000000   \n",
       "mean      9.926537   644.732134  1251.177911  2123.537731    12.304348   \n",
       "std       6.062928   443.555122   431.943139  1084.701283     4.213292   \n",
       "min       0.000000     0.000000   500.000000   256.000000     5.000000   \n",
       "25%       5.000000   283.000000   875.000000  1206.000000     9.000000   \n",
       "50%      10.000000   564.000000  1247.000000  2146.000000    12.000000   \n",
       "75%      15.000000   946.000000  1632.000000  3064.000000    16.000000   \n",
       "max      20.000000  1960.000000  1998.000000  3998.000000    19.000000   \n",
       "\n",
       "              sc_w    talk_time      three_g  touch_screen         wifi  \\\n",
       "count  2001.000000  2001.000000  2001.000000   2001.000000  2001.000000   \n",
       "mean      5.767616    11.015492     0.761619      0.502749     0.506747   \n",
       "std       4.355396     5.466284     0.426200      0.500117     0.500079   \n",
       "min       0.000000     2.000000     0.000000      0.000000     0.000000   \n",
       "25%       2.000000     6.000000     1.000000      0.000000     0.000000   \n",
       "50%       5.000000    11.000000     1.000000      1.000000     1.000000   \n",
       "75%       9.000000    16.000000     1.000000      1.000000     1.000000   \n",
       "max      18.000000    20.000000     1.000000      1.000000     1.000000   \n",
       "\n",
       "       price_range  \n",
       "count  2001.000000  \n",
       "mean      1.498751  \n",
       "std       1.118536  \n",
       "min       0.000000  \n",
       "25%       0.000000  \n",
       "50%       1.000000  \n",
       "75%       2.000000  \n",
       "max       3.000000  "
      ]
     },
     "execution_count": 14,
     "metadata": {},
     "output_type": "execute_result"
    }
   ],
   "source": [
    "df.describe()"
   ]
  },
  {
   "cell_type": "code",
   "execution_count": 19,
   "id": "5b9101c8",
   "metadata": {},
   "outputs": [
    {
     "name": "stdout",
     "output_type": "stream",
     "text": [
      "Number of unique values in mobile weight: 121\n"
     ]
    }
   ],
   "source": [
    "# 4.\tHow many unique values are there in the \"mobile_wt\" column?\n",
    "print('Number of unique values in mobile weight:', df['mobile_wt'].nunique())"
   ]
  },
  {
   "cell_type": "code",
   "execution_count": 20,
   "id": "80651e48",
   "metadata": {},
   "outputs": [
    {
     "name": "stdout",
     "output_type": "stream",
     "text": [
      "Average battery power of the mobile phones: 1238.42\n"
     ]
    }
   ],
   "source": [
    "# 5.\tWhat is the average battery power of the mobile phones in the dataset?\n",
    "print('Average battery power of the mobile phones:', round(df['battery_power'].mean(),2))"
   ]
  },
  {
   "cell_type": "code",
   "execution_count": 39,
   "id": "3ae713e9",
   "metadata": {},
   "outputs": [
    {
     "data": {
      "image/png": "[encoded data removed]",
      "text/plain": [
       "<Figure size 640x480 with 1 Axes>"
      ]
     },
     "metadata": {},
     "output_type": "display_data"
    }
   ],
   "source": [
    "# 6.\tWhat is the distribution of battery power in the dataset?\n",
    "sns.boxplot(df, x='battery_power')\n",
    "plt.title('Distribution of Battery Power')\n",
    "plt.show()"
   ]
  },
  {
   "cell_type": "code",
   "execution_count": 21,
   "id": "244d5392",
   "metadata": {},
   "outputs": [
    {
     "name": "stdout",
     "output_type": "stream",
     "text": [
      "Total number of mobiles having dual sim: 1020\n"
     ]
    }
   ],
   "source": [
    "# 7.\tHow many mobile phones have a dual sim support? \n",
    "print('Total number of mobiles having dual sim:', df[df['dual_sim']==1].shape[0])"
   ]
  },
  {
   "cell_type": "code",
   "execution_count": 46,
   "id": "3a78baa5",
   "metadata": {},
   "outputs": [
    {
     "data": {
      "text/plain": [
       "Minimum:     2.0\n",
       "Maximum:    64.0\n",
       "Name: int_memory, dtype: float64"
      ]
     },
     "execution_count": 46,
     "metadata": {},
     "output_type": "execute_result"
    }
   ],
   "source": [
    "# 8.\tWhat is the maximum and minimum internal memory in the dataset?\n",
    "df['int_memory'].agg({'Minimum:': min, 'Maximum:':max})"
   ]
  },
  {
   "cell_type": "code",
   "execution_count": 47,
   "id": "d74384a5",
   "metadata": {},
   "outputs": [
    {
     "data": {
      "image/png": "[encoded data removed]",
      "text/plain": [
       "<Figure size 640x480 with 1 Axes>"
      ]
     },
     "metadata": {},
     "output_type": "display_data"
    }
   ],
   "source": [
    "# 9.\tWhat is the distribution of internal memory in the dataset?\n",
    "sns.boxplot(df, x='int_memory')\n",
    "plt.title('Distribution of Internal Memory')\n",
    "plt.show()"
   ]
  },
  {
   "cell_type": "code",
   "execution_count": 22,
   "id": "d84cea3b",
   "metadata": {},
   "outputs": [
    {
     "name": "stdout",
     "output_type": "stream",
     "text": [
      "Total number of mobiles having 4G: 1044\n"
     ]
    }
   ],
   "source": [
    "# 10.\tHow many mobile phones have 4G support?\n",
    "print('Total number of mobiles having 4G:', df[df['four_g']==1].shape[0])"
   ]
  },
  {
   "cell_type": "code",
   "execution_count": 23,
   "id": "42370916",
   "metadata": {},
   "outputs": [
    {
     "name": "stdout",
     "output_type": "stream",
     "text": [
      "Average weight of mobile Phone: 140.26\n"
     ]
    }
   ],
   "source": [
    "# 11.\tWhat is the average weight of mobile phones in the dataset?\n",
    "print('Average weight of mobile Phone:', round(df['mobile_wt'].mean(),2))"
   ]
  },
  {
   "cell_type": "code",
   "execution_count": 50,
   "id": "64f8efe6",
   "metadata": {},
   "outputs": [
    {
     "data": {
      "text/plain": [
       "Minimum:     256.0\n",
       "Maximum:    3998.0\n",
       "Name: ram, dtype: float64"
      ]
     },
     "execution_count": 50,
     "metadata": {},
     "output_type": "execute_result"
    }
   ],
   "source": [
    "# 12.\tWhat is the maximum and minimum RAM size in the dataset?\n",
    "df['ram'].agg({'Minimum:': min, 'Maximum:':max})"
   ]
  },
  {
   "cell_type": "code",
   "execution_count": 24,
   "id": "2d15632b",
   "metadata": {},
   "outputs": [
    {
     "name": "stdout",
     "output_type": "stream",
     "text": [
      "Number of mobile phones having a touch screen and 4G support: 533\n"
     ]
    }
   ],
   "source": [
    "# 13.\tHow many mobile phones have a touch screen and 4G support?\n",
    "\n",
    "print('Number of mobile phones having a touch screen and 4G support:', df[(df['touch_screen']==1) & df['four_g']==1].shape[0])"
   ]
  },
  {
   "cell_type": "code",
   "execution_count": 18,
   "id": "9a131ff2",
   "metadata": {},
   "outputs": [
    {
     "name": "stdout",
     "output_type": "stream",
     "text": [
      "Average internal memory capacity of mobile phones(having 4G & >=8MP): 31.58551617873652\n"
     ]
    }
   ],
   "source": [
    "# 14.\tWhat is the average internal memory capacity of mobile phones with 4G support and a primary camera quality of 8 \n",
    "#     megapixels or higher?\n",
    "\n",
    "print('Average internal memory capacity of mobile phones(having 4G & >=8MP):',  df[(df['four_g']==1) & (df['pc']>=8)]['int_memory'].mean())"
   ]
  },
  {
   "cell_type": "code",
   "execution_count": 25,
   "id": "8854ef76",
   "metadata": {},
   "outputs": [
    {
     "data": {
      "text/html": [
       "<div>\n",
       "<style scoped>\n",
       "    .dataframe tbody tr th:only-of-type {\n",
       "        vertical-align: middle;\n",
       "    }\n",
       "\n",
       "    .dataframe tbody tr th {\n",
       "        vertical-align: top;\n",
       "    }\n",
       "\n",
       "    .dataframe thead th {\n",
       "        text-align: right;\n",
       "    }\n",
       "</style>\n",
       "<table border=\"1\" class=\"dataframe\">\n",
       "  <thead>\n",
       "    <tr style=\"text-align: right;\">\n",
       "      <th></th>\n",
       "      <th>battery_power</th>\n",
       "      <th>blue</th>\n",
       "      <th>clock_speed</th>\n",
       "      <th>dual_sim</th>\n",
       "      <th>fc</th>\n",
       "      <th>four_g</th>\n",
       "      <th>int_memory</th>\n",
       "      <th>m_dep</th>\n",
       "      <th>mobile_wt</th>\n",
       "      <th>n_cores</th>\n",
       "      <th>pc</th>\n",
       "      <th>px_height</th>\n",
       "      <th>px_width</th>\n",
       "      <th>ram</th>\n",
       "      <th>sc_h</th>\n",
       "      <th>sc_w</th>\n",
       "      <th>talk_time</th>\n",
       "      <th>three_g</th>\n",
       "      <th>touch_screen</th>\n",
       "      <th>wifi</th>\n",
       "      <th>price_range</th>\n",
       "    </tr>\n",
       "  </thead>\n",
       "  <tbody>\n",
       "    <tr>\n",
       "      <th>941</th>\n",
       "      <td>1456.0</td>\n",
       "      <td>0.0</td>\n",
       "      <td>1.6</td>\n",
       "      <td>1.0</td>\n",
       "      <td>9.0</td>\n",
       "      <td>1.0</td>\n",
       "      <td>39.0</td>\n",
       "      <td>0.1</td>\n",
       "      <td>80.0</td>\n",
       "      <td>8.0</td>\n",
       "      <td>10.0</td>\n",
       "      <td>815.0</td>\n",
       "      <td>1666.0</td>\n",
       "      <td>3998.0</td>\n",
       "      <td>6.0</td>\n",
       "      <td>3.0</td>\n",
       "      <td>13.0</td>\n",
       "      <td>1.0</td>\n",
       "      <td>1.0</td>\n",
       "      <td>0.0</td>\n",
       "      <td>3.0</td>\n",
       "    </tr>\n",
       "  </tbody>\n",
       "</table>\n",
       "</div>"
      ],
      "text/plain": [
       "     battery_power  blue  clock_speed  dual_sim   fc  four_g  int_memory  \\\n",
       "941         1456.0   0.0          1.6       1.0  9.0     1.0        39.0   \n",
       "\n",
       "     m_dep  mobile_wt  n_cores    pc  px_height  px_width     ram  sc_h  sc_w  \\\n",
       "941    0.1       80.0      8.0  10.0      815.0    1666.0  3998.0   6.0   3.0   \n",
       "\n",
       "     talk_time  three_g  touch_screen  wifi  price_range  \n",
       "941       13.0      1.0           1.0   0.0          3.0  "
      ]
     },
     "execution_count": 25,
     "metadata": {},
     "output_type": "execute_result"
    }
   ],
   "source": [
    "# 15.\tWhich mobile phone has the highest RAM size and what are its other specifications?\n",
    "df[df['ram']==df['ram'].max()]"
   ]
  },
  {
   "cell_type": "code",
   "execution_count": 28,
   "id": "8e6ef45f",
   "metadata": {},
   "outputs": [
    {
     "data": {
      "image/png": "[encoded data removed]",
      "text/plain": [
       "<Figure size 640x480 with 1 Axes>"
      ]
     },
     "metadata": {},
     "output_type": "display_data"
    }
   ],
   "source": [
    "# 16.\tWhat is the distribution of battery power for mobile phones with a weight between 150 and 200 grams?\n",
    "df16=df[(df['mobile_wt']>=150) & (df['mobile_wt']<=200)]\n",
    "\n",
    "sns.boxplot(df16, x='battery_power')\n",
    "plt.title('Distribution of Battery Power')\n",
    "plt.show()"
   ]
  },
  {
   "cell_type": "code",
   "execution_count": 39,
   "id": "884e3ef6",
   "metadata": {},
   "outputs": [
    {
     "name": "stdout",
     "output_type": "stream",
     "text": [
      "Number of mobile phones having a touch screen and primary camera quality >=8MP: 619\n"
     ]
    }
   ],
   "source": [
    "# 17.\tHow many mobile phones have a primary camera quality of 8 megapixels or higher and a touch screen?\n",
    "print('Number of mobile phones having a touch screen and primary camera quality >=8MP:',\n",
    "      df[(df['pc']>=8) & (df['touch_screen']==1)].shape[0])"
   ]
  },
  {
   "cell_type": "code",
   "execution_count": 40,
   "id": "891e5fc9",
   "metadata": {},
   "outputs": [
    {
     "name": "stdout",
     "output_type": "stream",
     "text": [
      "Average weight of mobile phones with 4G and a touch screen: 138.88\n"
     ]
    }
   ],
   "source": [
    "# 18.\tWhat is the average weight of mobile phones with 4G support and a touch screen?\n",
    "print('Average weight of mobile phones with 4G and a touch screen:',\n",
    "      round(df[(df['four_g']==1) & (df['touch_screen']==1)]['mobile_wt'].mean(),2))"
   ]
  },
  {
   "cell_type": "code",
   "execution_count": 41,
   "id": "93cd85f5",
   "metadata": {},
   "outputs": [
    {
     "name": "stdout",
     "output_type": "stream",
     "text": [
      "Number of mobile phones having battery power >3000MAH and talk time >20Hrs: 0\n"
     ]
    }
   ],
   "source": [
    "# 19.\tHow many mobile phones have a battery power greater than 3000 mAh and a talk time greater than 20 hours?\n",
    "\n",
    "print('Number of mobile phones having battery power >3000MAH and talk time >20Hrs:',\n",
    "      df[(df['battery_power']>3000) & (df['talk_time']>20)].shape[0])"
   ]
  },
  {
   "cell_type": "code",
   "execution_count": 47,
   "id": "31c7938e",
   "metadata": {},
   "outputs": [
    {
     "data": {
      "text/html": [
       "<div>\n",
       "<style scoped>\n",
       "    .dataframe tbody tr th:only-of-type {\n",
       "        vertical-align: middle;\n",
       "    }\n",
       "\n",
       "    .dataframe tbody tr th {\n",
       "        vertical-align: top;\n",
       "    }\n",
       "\n",
       "    .dataframe thead th {\n",
       "        text-align: right;\n",
       "    }\n",
       "</style>\n",
       "<table border=\"1\" class=\"dataframe\">\n",
       "  <thead>\n",
       "    <tr style=\"text-align: right;\">\n",
       "      <th></th>\n",
       "      <th>battery_power</th>\n",
       "      <th>blue</th>\n",
       "      <th>clock_speed</th>\n",
       "      <th>dual_sim</th>\n",
       "      <th>fc</th>\n",
       "      <th>four_g</th>\n",
       "      <th>int_memory</th>\n",
       "      <th>m_dep</th>\n",
       "      <th>mobile_wt</th>\n",
       "      <th>n_cores</th>\n",
       "      <th>pc</th>\n",
       "      <th>px_height</th>\n",
       "      <th>px_width</th>\n",
       "      <th>ram</th>\n",
       "      <th>sc_h</th>\n",
       "      <th>sc_w</th>\n",
       "      <th>talk_time</th>\n",
       "      <th>three_g</th>\n",
       "      <th>touch_screen</th>\n",
       "      <th>wifi</th>\n",
       "      <th>price_range</th>\n",
       "    </tr>\n",
       "  </thead>\n",
       "  <tbody>\n",
       "    <tr>\n",
       "      <th>23</th>\n",
       "      <td>1602.0</td>\n",
       "      <td>1.0</td>\n",
       "      <td>2.8</td>\n",
       "      <td>1.0</td>\n",
       "      <td>4.0</td>\n",
       "      <td>1.0</td>\n",
       "      <td>38.0</td>\n",
       "      <td>0.7</td>\n",
       "      <td>114.0</td>\n",
       "      <td>3.0</td>\n",
       "      <td>20.0</td>\n",
       "      <td>466.0</td>\n",
       "      <td>788.0</td>\n",
       "      <td>1037.0</td>\n",
       "      <td>8.0</td>\n",
       "      <td>7.0</td>\n",
       "      <td>20.0</td>\n",
       "      <td>1.0</td>\n",
       "      <td>0.0</td>\n",
       "      <td>0.0</td>\n",
       "      <td>0.0</td>\n",
       "    </tr>\n",
       "    <tr>\n",
       "      <th>31</th>\n",
       "      <td>1568.0</td>\n",
       "      <td>1.0</td>\n",
       "      <td>0.5</td>\n",
       "      <td>0.0</td>\n",
       "      <td>16.0</td>\n",
       "      <td>0.0</td>\n",
       "      <td>33.0</td>\n",
       "      <td>1.0</td>\n",
       "      <td>150.0</td>\n",
       "      <td>8.0</td>\n",
       "      <td>20.0</td>\n",
       "      <td>413.0</td>\n",
       "      <td>654.0</td>\n",
       "      <td>508.0</td>\n",
       "      <td>5.0</td>\n",
       "      <td>1.0</td>\n",
       "      <td>6.0</td>\n",
       "      <td>1.0</td>\n",
       "      <td>1.0</td>\n",
       "      <td>1.0</td>\n",
       "      <td>0.0</td>\n",
       "    </tr>\n",
       "    <tr>\n",
       "      <th>39</th>\n",
       "      <td>560.0</td>\n",
       "      <td>0.0</td>\n",
       "      <td>0.5</td>\n",
       "      <td>1.0</td>\n",
       "      <td>15.0</td>\n",
       "      <td>0.0</td>\n",
       "      <td>50.0</td>\n",
       "      <td>0.3</td>\n",
       "      <td>159.0</td>\n",
       "      <td>2.0</td>\n",
       "      <td>20.0</td>\n",
       "      <td>1448.0</td>\n",
       "      <td>1613.0</td>\n",
       "      <td>2150.0</td>\n",
       "      <td>18.0</td>\n",
       "      <td>12.0</td>\n",
       "      <td>11.0</td>\n",
       "      <td>1.0</td>\n",
       "      <td>1.0</td>\n",
       "      <td>0.0</td>\n",
       "      <td>2.0</td>\n",
       "    </tr>\n",
       "    <tr>\n",
       "      <th>55</th>\n",
       "      <td>1936.0</td>\n",
       "      <td>0.0</td>\n",
       "      <td>2.1</td>\n",
       "      <td>1.0</td>\n",
       "      <td>10.0</td>\n",
       "      <td>1.0</td>\n",
       "      <td>46.0</td>\n",
       "      <td>0.6</td>\n",
       "      <td>104.0</td>\n",
       "      <td>3.0</td>\n",
       "      <td>20.0</td>\n",
       "      <td>667.0</td>\n",
       "      <td>1036.0</td>\n",
       "      <td>2552.0</td>\n",
       "      <td>14.0</td>\n",
       "      <td>7.0</td>\n",
       "      <td>13.0</td>\n",
       "      <td>1.0</td>\n",
       "      <td>0.0</td>\n",
       "      <td>0.0</td>\n",
       "      <td>2.0</td>\n",
       "    </tr>\n",
       "    <tr>\n",
       "      <th>75</th>\n",
       "      <td>819.0</td>\n",
       "      <td>0.0</td>\n",
       "      <td>0.6</td>\n",
       "      <td>1.0</td>\n",
       "      <td>8.0</td>\n",
       "      <td>1.0</td>\n",
       "      <td>42.0</td>\n",
       "      <td>0.9</td>\n",
       "      <td>188.0</td>\n",
       "      <td>6.0</td>\n",
       "      <td>20.0</td>\n",
       "      <td>339.0</td>\n",
       "      <td>1242.0</td>\n",
       "      <td>1814.0</td>\n",
       "      <td>5.0</td>\n",
       "      <td>4.0</td>\n",
       "      <td>13.0</td>\n",
       "      <td>1.0</td>\n",
       "      <td>0.0</td>\n",
       "      <td>1.0</td>\n",
       "      <td>1.0</td>\n",
       "    </tr>\n",
       "  </tbody>\n",
       "</table>\n",
       "</div>"
      ],
      "text/plain": [
       "    battery_power  blue  clock_speed  dual_sim    fc  four_g  int_memory  \\\n",
       "23         1602.0   1.0          2.8       1.0   4.0     1.0        38.0   \n",
       "31         1568.0   1.0          0.5       0.0  16.0     0.0        33.0   \n",
       "39          560.0   0.0          0.5       1.0  15.0     0.0        50.0   \n",
       "55         1936.0   0.0          2.1       1.0  10.0     1.0        46.0   \n",
       "75          819.0   0.0          0.6       1.0   8.0     1.0        42.0   \n",
       "\n",
       "    m_dep  mobile_wt  n_cores    pc  px_height  px_width     ram  sc_h  sc_w  \\\n",
       "23    0.7      114.0      3.0  20.0      466.0     788.0  1037.0   8.0   7.0   \n",
       "31    1.0      150.0      8.0  20.0      413.0     654.0   508.0   5.0   1.0   \n",
       "39    0.3      159.0      2.0  20.0     1448.0    1613.0  2150.0  18.0  12.0   \n",
       "55    0.6      104.0      3.0  20.0      667.0    1036.0  2552.0  14.0   7.0   \n",
       "75    0.9      188.0      6.0  20.0      339.0    1242.0  1814.0   5.0   4.0   \n",
       "\n",
       "    talk_time  three_g  touch_screen  wifi  price_range  \n",
       "23       20.0      1.0           0.0   0.0          0.0  \n",
       "31        6.0      1.0           1.0   1.0          0.0  \n",
       "39       11.0      1.0           1.0   0.0          2.0  \n",
       "55       13.0      1.0           0.0   0.0          2.0  \n",
       "75       13.0      1.0           0.0   1.0          1.0  "
      ]
     },
     "execution_count": 47,
     "metadata": {},
     "output_type": "execute_result"
    }
   ],
   "source": [
    "# 20.\tWhich mobile phone has the highest primary camera quality and what are its other specifications?\n",
    "df[df['pc']==df['pc'].max()].head()"
   ]
  },
  {
   "cell_type": "code",
   "execution_count": 49,
   "id": "cd2e91cc",
   "metadata": {},
   "outputs": [
    {
     "data": {
      "text/plain": [
       "507"
      ]
     },
     "execution_count": 49,
     "metadata": {},
     "output_type": "execute_result"
    }
   ],
   "source": [
    "# 21.\tHow many mobile phones have a battery power greater than the average battery power of all \n",
    "#     mobile phones in the dataset and a primary camera quality of 10 megapixels or higher?\n",
    "\n",
    "df[(df['battery_power']>df['battery_power'].mean()) & (df['pc']>=10)].shape[0]"
   ]
  },
  {
   "cell_type": "code",
   "execution_count": 50,
   "id": "a44aad45",
   "metadata": {},
   "outputs": [
    {
     "data": {
      "text/html": [
       "<div>\n",
       "<style scoped>\n",
       "    .dataframe tbody tr th:only-of-type {\n",
       "        vertical-align: middle;\n",
       "    }\n",
       "\n",
       "    .dataframe tbody tr th {\n",
       "        vertical-align: top;\n",
       "    }\n",
       "\n",
       "    .dataframe thead th {\n",
       "        text-align: right;\n",
       "    }\n",
       "</style>\n",
       "<table border=\"1\" class=\"dataframe\">\n",
       "  <thead>\n",
       "    <tr style=\"text-align: right;\">\n",
       "      <th></th>\n",
       "      <th>battery_power</th>\n",
       "      <th>sc_h</th>\n",
       "      <th>sc_w</th>\n",
       "    </tr>\n",
       "  </thead>\n",
       "  <tbody>\n",
       "    <tr>\n",
       "      <th>battery_power</th>\n",
       "      <td>1.000000</td>\n",
       "      <td>-0.030929</td>\n",
       "      <td>-0.020309</td>\n",
       "    </tr>\n",
       "    <tr>\n",
       "      <th>sc_h</th>\n",
       "      <td>-0.030929</td>\n",
       "      <td>1.000000</td>\n",
       "      <td>0.505857</td>\n",
       "    </tr>\n",
       "    <tr>\n",
       "      <th>sc_w</th>\n",
       "      <td>-0.020309</td>\n",
       "      <td>0.505857</td>\n",
       "      <td>1.000000</td>\n",
       "    </tr>\n",
       "  </tbody>\n",
       "</table>\n",
       "</div>"
      ],
      "text/plain": [
       "               battery_power      sc_h      sc_w\n",
       "battery_power       1.000000 -0.030929 -0.020309\n",
       "sc_h               -0.030929  1.000000  0.505857\n",
       "sc_w               -0.020309  0.505857  1.000000"
      ]
     },
     "execution_count": 50,
     "metadata": {},
     "output_type": "execute_result"
    }
   ],
   "source": [
    "# 22.\tIs there a correlation between battery power and screen size?\n",
    "df[['battery_power', 'sc_h', 'sc_w']].corr()"
   ]
  },
  {
   "cell_type": "code",
   "execution_count": 51,
   "id": "bdf17603",
   "metadata": {},
   "outputs": [
    {
     "data": {
      "text/html": [
       "<div>\n",
       "<style scoped>\n",
       "    .dataframe tbody tr th:only-of-type {\n",
       "        vertical-align: middle;\n",
       "    }\n",
       "\n",
       "    .dataframe tbody tr th {\n",
       "        vertical-align: top;\n",
       "    }\n",
       "\n",
       "    .dataframe thead th {\n",
       "        text-align: right;\n",
       "    }\n",
       "</style>\n",
       "<table border=\"1\" class=\"dataframe\">\n",
       "  <thead>\n",
       "    <tr style=\"text-align: right;\">\n",
       "      <th></th>\n",
       "      <th>n_cores</th>\n",
       "      <th>battery_power</th>\n",
       "      <th>talk_time</th>\n",
       "    </tr>\n",
       "  </thead>\n",
       "  <tbody>\n",
       "    <tr>\n",
       "      <th>count</th>\n",
       "      <td>2001.000000</td>\n",
       "      <td>2001.000000</td>\n",
       "      <td>2001.000000</td>\n",
       "    </tr>\n",
       "    <tr>\n",
       "      <th>mean</th>\n",
       "      <td>4.519740</td>\n",
       "      <td>1238.420790</td>\n",
       "      <td>11.015492</td>\n",
       "    </tr>\n",
       "    <tr>\n",
       "      <th>std</th>\n",
       "      <td>2.287517</td>\n",
       "      <td>438.816918</td>\n",
       "      <td>5.466284</td>\n",
       "    </tr>\n",
       "    <tr>\n",
       "      <th>min</th>\n",
       "      <td>1.000000</td>\n",
       "      <td>501.000000</td>\n",
       "      <td>2.000000</td>\n",
       "    </tr>\n",
       "    <tr>\n",
       "      <th>25%</th>\n",
       "      <td>3.000000</td>\n",
       "      <td>852.000000</td>\n",
       "      <td>6.000000</td>\n",
       "    </tr>\n",
       "    <tr>\n",
       "      <th>50%</th>\n",
       "      <td>4.000000</td>\n",
       "      <td>1227.000000</td>\n",
       "      <td>11.000000</td>\n",
       "    </tr>\n",
       "    <tr>\n",
       "      <th>75%</th>\n",
       "      <td>7.000000</td>\n",
       "      <td>1615.000000</td>\n",
       "      <td>16.000000</td>\n",
       "    </tr>\n",
       "    <tr>\n",
       "      <th>max</th>\n",
       "      <td>8.000000</td>\n",
       "      <td>1998.000000</td>\n",
       "      <td>20.000000</td>\n",
       "    </tr>\n",
       "  </tbody>\n",
       "</table>\n",
       "</div>"
      ],
      "text/plain": [
       "           n_cores  battery_power    talk_time\n",
       "count  2001.000000    2001.000000  2001.000000\n",
       "mean      4.519740    1238.420790    11.015492\n",
       "std       2.287517     438.816918     5.466284\n",
       "min       1.000000     501.000000     2.000000\n",
       "25%       3.000000     852.000000     6.000000\n",
       "50%       4.000000    1227.000000    11.000000\n",
       "75%       7.000000    1615.000000    16.000000\n",
       "max       8.000000    1998.000000    20.000000"
      ]
     },
     "execution_count": 51,
     "metadata": {},
     "output_type": "execute_result"
    }
   ],
   "source": [
    "# 23.\tHow does the number of processor cores affect the battery life of mobile phones?\n",
    "df[['n_cores','battery_power','talk_time']].describe()"
   ]
  },
  {
   "cell_type": "code",
   "execution_count": 52,
   "id": "9fa4692c",
   "metadata": {},
   "outputs": [
    {
     "data": {
      "text/html": [
       "<div>\n",
       "<style scoped>\n",
       "    .dataframe tbody tr th:only-of-type {\n",
       "        vertical-align: middle;\n",
       "    }\n",
       "\n",
       "    .dataframe tbody tr th {\n",
       "        vertical-align: top;\n",
       "    }\n",
       "\n",
       "    .dataframe thead th {\n",
       "        text-align: right;\n",
       "    }\n",
       "</style>\n",
       "<table border=\"1\" class=\"dataframe\">\n",
       "  <thead>\n",
       "    <tr style=\"text-align: right;\">\n",
       "      <th></th>\n",
       "      <th>n_cores</th>\n",
       "      <th>battery_power</th>\n",
       "      <th>talk_time</th>\n",
       "    </tr>\n",
       "  </thead>\n",
       "  <tbody>\n",
       "    <tr>\n",
       "      <th>n_cores</th>\n",
       "      <td>1.000000</td>\n",
       "      <td>-0.031330</td>\n",
       "      <td>0.012591</td>\n",
       "    </tr>\n",
       "    <tr>\n",
       "      <th>battery_power</th>\n",
       "      <td>-0.031330</td>\n",
       "      <td>1.000000</td>\n",
       "      <td>0.052952</td>\n",
       "    </tr>\n",
       "    <tr>\n",
       "      <th>talk_time</th>\n",
       "      <td>0.012591</td>\n",
       "      <td>0.052952</td>\n",
       "      <td>1.000000</td>\n",
       "    </tr>\n",
       "  </tbody>\n",
       "</table>\n",
       "</div>"
      ],
      "text/plain": [
       "                n_cores  battery_power  talk_time\n",
       "n_cores        1.000000      -0.031330   0.012591\n",
       "battery_power -0.031330       1.000000   0.052952\n",
       "talk_time      0.012591       0.052952   1.000000"
      ]
     },
     "execution_count": 52,
     "metadata": {},
     "output_type": "execute_result"
    }
   ],
   "source": [
    "df[['n_cores','battery_power','talk_time']].corr()"
   ]
  },
  {
   "cell_type": "code",
   "execution_count": 53,
   "id": "5cdac361",
   "metadata": {},
   "outputs": [
    {
     "data": {
      "text/html": [
       "<div>\n",
       "<style scoped>\n",
       "    .dataframe tbody tr th:only-of-type {\n",
       "        vertical-align: middle;\n",
       "    }\n",
       "\n",
       "    .dataframe tbody tr th {\n",
       "        vertical-align: top;\n",
       "    }\n",
       "\n",
       "    .dataframe thead th {\n",
       "        text-align: right;\n",
       "    }\n",
       "</style>\n",
       "<table border=\"1\" class=\"dataframe\">\n",
       "  <thead>\n",
       "    <tr style=\"text-align: right;\">\n",
       "      <th></th>\n",
       "      <th>mobile_wt</th>\n",
       "      <th>pc</th>\n",
       "    </tr>\n",
       "  </thead>\n",
       "  <tbody>\n",
       "    <tr>\n",
       "      <th>mobile_wt</th>\n",
       "      <td>1.00000</td>\n",
       "      <td>0.01774</td>\n",
       "    </tr>\n",
       "    <tr>\n",
       "      <th>pc</th>\n",
       "      <td>0.01774</td>\n",
       "      <td>1.00000</td>\n",
       "    </tr>\n",
       "  </tbody>\n",
       "</table>\n",
       "</div>"
      ],
      "text/plain": [
       "           mobile_wt       pc\n",
       "mobile_wt    1.00000  0.01774\n",
       "pc           0.01774  1.00000"
      ]
     },
     "execution_count": 53,
     "metadata": {},
     "output_type": "execute_result"
    }
   ],
   "source": [
    "# 24.\tIs there a relationship between the weight of a mobile phone and the quality of its primary camera?\n",
    "df[['mobile_wt','pc']].corr()"
   ]
  },
  {
   "cell_type": "code",
   "execution_count": 11,
   "id": "923da728",
   "metadata": {},
   "outputs": [
    {
     "data": {
      "text/html": [
       "<div>\n",
       "<style scoped>\n",
       "    .dataframe tbody tr th:only-of-type {\n",
       "        vertical-align: middle;\n",
       "    }\n",
       "\n",
       "    .dataframe tbody tr th {\n",
       "        vertical-align: top;\n",
       "    }\n",
       "\n",
       "    .dataframe thead th {\n",
       "        text-align: right;\n",
       "    }\n",
       "</style>\n",
       "<table border=\"1\" class=\"dataframe\">\n",
       "  <thead>\n",
       "    <tr style=\"text-align: right;\">\n",
       "      <th></th>\n",
       "      <th>battery_power</th>\n",
       "      <th>blue</th>\n",
       "      <th>clock_speed</th>\n",
       "      <th>dual_sim</th>\n",
       "      <th>fc</th>\n",
       "      <th>four_g</th>\n",
       "      <th>int_memory</th>\n",
       "      <th>m_dep</th>\n",
       "      <th>mobile_wt</th>\n",
       "      <th>n_cores</th>\n",
       "      <th>pc</th>\n",
       "      <th>px_height</th>\n",
       "      <th>px_width</th>\n",
       "      <th>ram</th>\n",
       "      <th>sc_h</th>\n",
       "      <th>sc_w</th>\n",
       "      <th>talk_time</th>\n",
       "      <th>three_g</th>\n",
       "      <th>touch_screen</th>\n",
       "      <th>wifi</th>\n",
       "      <th>price_range</th>\n",
       "    </tr>\n",
       "  </thead>\n",
       "  <tbody>\n",
       "    <tr>\n",
       "      <th>0</th>\n",
       "      <td>842</td>\n",
       "      <td>0.0</td>\n",
       "      <td>2.2</td>\n",
       "      <td>0.0</td>\n",
       "      <td>1</td>\n",
       "      <td>0</td>\n",
       "      <td>7.0</td>\n",
       "      <td>0.6</td>\n",
       "      <td>188</td>\n",
       "      <td>2</td>\n",
       "      <td>2.0</td>\n",
       "      <td>20.0</td>\n",
       "      <td>756</td>\n",
       "      <td>2,549.00</td>\n",
       "      <td>9</td>\n",
       "      <td>7</td>\n",
       "      <td>19</td>\n",
       "      <td>0</td>\n",
       "      <td>0</td>\n",
       "      <td>1</td>\n",
       "      <td>1.0</td>\n",
       "    </tr>\n",
       "    <tr>\n",
       "      <th>1</th>\n",
       "      <td>1021</td>\n",
       "      <td>1.0</td>\n",
       "      <td>0.5</td>\n",
       "      <td>1.0</td>\n",
       "      <td>0</td>\n",
       "      <td>1</td>\n",
       "      <td>53.0</td>\n",
       "      <td>0.7</td>\n",
       "      <td>136</td>\n",
       "      <td>3</td>\n",
       "      <td>6.0</td>\n",
       "      <td>905.0</td>\n",
       "      <td>1988</td>\n",
       "      <td>2,631.00</td>\n",
       "      <td>17</td>\n",
       "      <td>3</td>\n",
       "      <td>7</td>\n",
       "      <td>1</td>\n",
       "      <td>1</td>\n",
       "      <td>0</td>\n",
       "      <td>2.0</td>\n",
       "    </tr>\n",
       "    <tr>\n",
       "      <th>2</th>\n",
       "      <td>563</td>\n",
       "      <td>1.0</td>\n",
       "      <td>0.5</td>\n",
       "      <td>1.0</td>\n",
       "      <td>2</td>\n",
       "      <td>1</td>\n",
       "      <td>41.0</td>\n",
       "      <td>0.9</td>\n",
       "      <td>145</td>\n",
       "      <td>5</td>\n",
       "      <td>6.0</td>\n",
       "      <td>1263.0</td>\n",
       "      <td>1716</td>\n",
       "      <td>2,603.00</td>\n",
       "      <td>11</td>\n",
       "      <td>2</td>\n",
       "      <td>9</td>\n",
       "      <td>1</td>\n",
       "      <td>1</td>\n",
       "      <td>0</td>\n",
       "      <td>2.0</td>\n",
       "    </tr>\n",
       "    <tr>\n",
       "      <th>3</th>\n",
       "      <td>615</td>\n",
       "      <td>1.0</td>\n",
       "      <td>2.5</td>\n",
       "      <td>0.0</td>\n",
       "      <td>0</td>\n",
       "      <td>0</td>\n",
       "      <td>10.0</td>\n",
       "      <td>0.8</td>\n",
       "      <td>131</td>\n",
       "      <td>6</td>\n",
       "      <td>9.0</td>\n",
       "      <td>1216.0</td>\n",
       "      <td>1786</td>\n",
       "      <td>2,769.00</td>\n",
       "      <td>16</td>\n",
       "      <td>8</td>\n",
       "      <td>11</td>\n",
       "      <td>1</td>\n",
       "      <td>0</td>\n",
       "      <td>0</td>\n",
       "      <td>2.0</td>\n",
       "    </tr>\n",
       "    <tr>\n",
       "      <th>4</th>\n",
       "      <td>1821</td>\n",
       "      <td>1.0</td>\n",
       "      <td>1.2</td>\n",
       "      <td>0.0</td>\n",
       "      <td>13</td>\n",
       "      <td>1</td>\n",
       "      <td>44.0</td>\n",
       "      <td>0.6</td>\n",
       "      <td>141</td>\n",
       "      <td>2</td>\n",
       "      <td>14.0</td>\n",
       "      <td>1208.0</td>\n",
       "      <td>1212</td>\n",
       "      <td>1,411.00</td>\n",
       "      <td>8</td>\n",
       "      <td>2</td>\n",
       "      <td>15</td>\n",
       "      <td>1</td>\n",
       "      <td>1</td>\n",
       "      <td>0</td>\n",
       "      <td>1.0</td>\n",
       "    </tr>\n",
       "  </tbody>\n",
       "</table>\n",
       "</div>"
      ],
      "text/plain": [
       "  battery_power  blue  clock_speed  dual_sim  fc  four_g  int_memory  m_dep  \\\n",
       "0           842   0.0          2.2       0.0   1       0         7.0    0.6   \n",
       "1          1021   1.0          0.5       1.0   0       1        53.0    0.7   \n",
       "2           563   1.0          0.5       1.0   2       1        41.0    0.9   \n",
       "3           615   1.0          2.5       0.0   0       0        10.0    0.8   \n",
       "4          1821   1.0          1.2       0.0  13       1        44.0    0.6   \n",
       "\n",
       "  mobile_wt  n_cores    pc  px_height px_width       ram  sc_h  sc_w  \\\n",
       "0       188        2   2.0       20.0      756  2,549.00     9     7   \n",
       "1       136        3   6.0      905.0     1988  2,631.00    17     3   \n",
       "2       145        5   6.0     1263.0     1716  2,603.00    11     2   \n",
       "3       131        6   9.0     1216.0     1786  2,769.00    16     8   \n",
       "4       141        2  14.0     1208.0     1212  1,411.00     8     2   \n",
       "\n",
       "   talk_time  three_g  touch_screen  wifi  price_range  \n",
       "0         19        0             0     1          1.0  \n",
       "1          7        1             1     0          2.0  \n",
       "2          9        1             1     0          2.0  \n",
       "3         11        1             0     0          2.0  \n",
       "4         15        1             1     0          1.0  "
      ]
     },
     "execution_count": 11,
     "metadata": {},
     "output_type": "execute_result"
    }
   ],
   "source": [
    "df.head()"
   ]
  },
  {
   "cell_type": "code",
   "execution_count": 46,
   "id": "28956404",
   "metadata": {},
   "outputs": [
    {
     "data": {
      "text/plain": [
       "Index(['battery_power', 'blue', 'clock_speed', 'dual_sim', 'fc', 'four_g',\n",
       "       'int_memory', 'm_dep', 'mobile_wt', 'n_cores', 'pc', 'px_height',\n",
       "       'px_width', 'ram', 'sc_h', 'sc_w', 'talk_time', 'three_g',\n",
       "       'touch_screen', 'wifi', 'price_range'],\n",
       "      dtype='object')"
      ]
     },
     "execution_count": 46,
     "metadata": {},
     "output_type": "execute_result"
    }
   ],
   "source": [
    "df.columns"
   ]
  },
  {
   "cell_type": "code",
   "execution_count": null,
   "id": "fc191138",
   "metadata": {},
   "outputs": [],
   "source": []
  },
  {
   "cell_type": "code",
   "execution_count": null,
   "id": "440b8173",
   "metadata": {},
   "outputs": [],
   "source": []
  }
 ],
 "metadata": {
  "kernelspec": {
   "display_name": "Python 3 (ipykernel)",
   "language": "python",
   "name": "python3"
  },
  "language_info": {
   "codemirror_mode": {
    "name": "ipython",
    "version": 3
   },
   "file_extension": ".py",
   "mimetype": "text/x-python",
   "name": "python",
   "nbconvert_exporter": "python",
   "pygments_lexer": "ipython3",
   "version": "3.10.8"
  }
 },
 "nbformat": 4,
 "nbformat_minor": 5
}
