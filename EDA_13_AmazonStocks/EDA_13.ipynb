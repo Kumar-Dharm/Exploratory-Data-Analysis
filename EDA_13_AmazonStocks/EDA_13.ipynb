{
 "cells": [
  {
   "cell_type": "markdown",
   "id": "7f1b7caa",
   "metadata": {},
   "source": [
    "# Exploratory Data Analysis-13\n",
    "https://drive.google.com/file/d/1xCGpuDQ3mZVaGSUpg__jysMRV7fiJc3u/view?usp=sharing"
   ]
  },
  {
   "cell_type": "raw",
   "id": "a4c0ec04",
   "metadata": {},
   "source": [
    "# Questions:\n",
    "    1.\tDownload the Amazon (AMZN) stock dataset provided to you.\n",
    "    2.\tImport the necessary libraries, including pandas, matplotlib, and any other libraries you may need.\n",
    "    3.\tLoad the dataset into a pandas DataFrame.\n",
    "    4.\tPerform the following data preprocessing steps: \n",
    "        a. Check for missing values and handle them appropriately. \n",
    "        b. Convert the 'date' column to a datetime data type. \n",
    "        c. Set the 'date' column as the index of the DataFrame.\n",
    "    5.\tExplore the dataset using pandas functions, and answer the following questions:\n",
    "    \n",
    "# Data Exploration Questions:\n",
    "    6.\tWhat is the range of dates included in this dataset?\n",
    "    7.\tWhat is the average closing price of Amazon (AMZN) stock over the entire period?\n",
    "    8.\tWhat was the highest closing price, and on which date did it occur?\n",
    "    9.\tCalculate the 20-day rolling average of the 'close' column and create a new column for it.\n",
    "    10.\tWhat is the correlation between the 'close' price and the 'volume' of Amazon stock?\n",
    "    11.\tCreate a new column 'price_diff' that represents the daily price change (close - open).\n",
    "    12.\tHow many days had a positive price change ('price_diff' > 0) and a negative price change ('price_diff' < 0)?\n",
    "    13.\tCalculate the average daily price change for days with positive price change and negative price change.\n",
    "    14.\tPlot a line chart showing the daily closing price of Amazon (AMZN) stock over time.\n",
    "    15.\tPlot a histogram of the daily volume of Amazon (AMZN) stock.\n",
    "    16.\tPerform more advanced EDA with pandas and visualization techniques: \n",
    "        a. Use groupby to calculate the average adjusted close price for each year in the dataset. \n",
    "        b. Create a line chart to visualize the annual trend in average adjusted close price. \n",
    "        c. Create a box plot to visualize the distribution of daily price changes ('price_diff').\n",
    "    17.\tBased on your analysis, provide insights and observations about the Amazon (AMZN) stock data."
   ]
  },
  {
   "cell_type": "code",
   "execution_count": null,
   "id": "e33187d7",
   "metadata": {},
   "outputs": [],
   "source": [
    "# # Shape of the dataset\n",
    "# df.shape\n",
    "\n",
    "# # Checking noise values\n",
    "# for i in df.columns:\n",
    "#     print(i,'\\n', df[i].sort_values().unique())\n",
    "    \n",
    "# # Checking null values\n",
    "# df.isnull().sum()\n",
    "\n",
    "# # Checking duplicates\n",
    "# df[df.duplicated()==True]\n",
    "\n",
    "# # Checking data types\n",
    "# df.dtypes\n",
    "\n",
    "# # 5-point summary\n",
    "# df.describe()"
   ]
  },
  {
   "cell_type": "code",
   "execution_count": 1,
   "id": "0534609d",
   "metadata": {},
   "outputs": [],
   "source": [
    "# Importing libraries\n",
    "import numpy as np\n",
    "import pandas as pd\n",
    "import matplotlib.pyplot as plt\n",
    "import seaborn as sns"
   ]
  },
  {
   "cell_type": "code",
   "execution_count": 17,
   "id": "7985db26",
   "metadata": {},
   "outputs": [],
   "source": [
    "# Reading the dataset\n",
    "df=pd.read_csv('E:/Exploratory_Data_Analysis/EDA_13_AmazonStocks.csv')"
   ]
  },
  {
   "cell_type": "code",
   "execution_count": 18,
   "id": "acaa0fe2",
   "metadata": {},
   "outputs": [
    {
     "data": {
      "text/html": [
       "<div>\n",
       "<style scoped>\n",
       "    .dataframe tbody tr th:only-of-type {\n",
       "        vertical-align: middle;\n",
       "    }\n",
       "\n",
       "    .dataframe tbody tr th {\n",
       "        vertical-align: top;\n",
       "    }\n",
       "\n",
       "    .dataframe thead th {\n",
       "        text-align: right;\n",
       "    }\n",
       "</style>\n",
       "<table border=\"1\" class=\"dataframe\">\n",
       "  <thead>\n",
       "    <tr style=\"text-align: right;\">\n",
       "      <th></th>\n",
       "      <th>date</th>\n",
       "      <th>open</th>\n",
       "      <th>high</th>\n",
       "      <th>low</th>\n",
       "      <th>close</th>\n",
       "      <th>volume</th>\n",
       "      <th>adjusted_close</th>\n",
       "      <th>change_percent</th>\n",
       "      <th>avg_vol_20d</th>\n",
       "    </tr>\n",
       "  </thead>\n",
       "  <tbody>\n",
       "    <tr>\n",
       "      <th>0</th>\n",
       "      <td>1997-05-15</td>\n",
       "      <td>29.256</td>\n",
       "      <td>30.000</td>\n",
       "      <td>23.124</td>\n",
       "      <td>23.496</td>\n",
       "      <td>6008999</td>\n",
       "      <td>0.0979</td>\n",
       "      <td>NaN</td>\n",
       "      <td>NaN</td>\n",
       "    </tr>\n",
       "    <tr>\n",
       "      <th>1</th>\n",
       "      <td>1997-05-16</td>\n",
       "      <td>23.628</td>\n",
       "      <td>23.748</td>\n",
       "      <td>20.496</td>\n",
       "      <td>20.748</td>\n",
       "      <td>1224999</td>\n",
       "      <td>0.0865</td>\n",
       "      <td>-11.64</td>\n",
       "      <td>NaN</td>\n",
       "    </tr>\n",
       "    <tr>\n",
       "      <th>2</th>\n",
       "      <td>1997-05-19</td>\n",
       "      <td>21.120</td>\n",
       "      <td>21.252</td>\n",
       "      <td>19.500</td>\n",
       "      <td>20.496</td>\n",
       "      <td>508899</td>\n",
       "      <td>0.0854</td>\n",
       "      <td>-1.27</td>\n",
       "      <td>NaN</td>\n",
       "    </tr>\n",
       "    <tr>\n",
       "      <th>3</th>\n",
       "      <td>1997-05-20</td>\n",
       "      <td>20.748</td>\n",
       "      <td>21.000</td>\n",
       "      <td>19.620</td>\n",
       "      <td>19.620</td>\n",
       "      <td>455599</td>\n",
       "      <td>0.0818</td>\n",
       "      <td>-4.22</td>\n",
       "      <td>NaN</td>\n",
       "    </tr>\n",
       "    <tr>\n",
       "      <th>4</th>\n",
       "      <td>1997-05-21</td>\n",
       "      <td>19.620</td>\n",
       "      <td>19.752</td>\n",
       "      <td>16.500</td>\n",
       "      <td>17.124</td>\n",
       "      <td>1571099</td>\n",
       "      <td>0.0714</td>\n",
       "      <td>-12.71</td>\n",
       "      <td>NaN</td>\n",
       "    </tr>\n",
       "  </tbody>\n",
       "</table>\n",
       "</div>"
      ],
      "text/plain": [
       "         date    open    high     low   close   volume  adjusted_close  \\\n",
       "0  1997-05-15  29.256  30.000  23.124  23.496  6008999          0.0979   \n",
       "1  1997-05-16  23.628  23.748  20.496  20.748  1224999          0.0865   \n",
       "2  1997-05-19  21.120  21.252  19.500  20.496   508899          0.0854   \n",
       "3  1997-05-20  20.748  21.000  19.620  19.620   455599          0.0818   \n",
       "4  1997-05-21  19.620  19.752  16.500  17.124  1571099          0.0714   \n",
       "\n",
       "   change_percent  avg_vol_20d  \n",
       "0             NaN          NaN  \n",
       "1          -11.64          NaN  \n",
       "2           -1.27          NaN  \n",
       "3           -4.22          NaN  \n",
       "4          -12.71          NaN  "
      ]
     },
     "execution_count": 18,
     "metadata": {},
     "output_type": "execute_result"
    }
   ],
   "source": [
    "df.head()"
   ]
  },
  {
   "cell_type": "code",
   "execution_count": 19,
   "id": "1579d4d1",
   "metadata": {},
   "outputs": [
    {
     "data": {
      "text/plain": [
       "(6624, 9)"
      ]
     },
     "execution_count": 19,
     "metadata": {},
     "output_type": "execute_result"
    }
   ],
   "source": [
    "df.shape"
   ]
  },
  {
   "cell_type": "code",
   "execution_count": null,
   "id": "9da00bad",
   "metadata": {},
   "outputs": [],
   "source": [
    "# 4.\tPerform the following data preprocessing steps: \n",
    "#     a. Check for missing values and handle them appropriately. \n",
    "#     b. Convert the 'date' column to a datetime data type. \n",
    "#     c. Set the 'date' column as the index of the DataFrame."
   ]
  },
  {
   "cell_type": "code",
   "execution_count": 20,
   "id": "c1527e5f",
   "metadata": {},
   "outputs": [
    {
     "name": "stdout",
     "output_type": "stream",
     "text": [
      "date \n",
      " ['1997-05-15' '1997-05-16' '1997-05-19' ... '2023-09-07' '2023-09-08'\n",
      " '2023-09-11']\n",
      "open \n",
      " [   5.91      6.17      6.25   ... 3717.3771 3722.5201 3744.0001]\n",
      "high \n",
      " [   6.1       6.17      6.47   ... 3759.9861 3762.1451 3773.0781]\n",
      "low \n",
      " [   5.51      5.67      5.83   ... 3678.9101 3693.3971 3696.7931]\n",
      "close \n",
      " [   5.97      6.01      6.08   ... 3718.5501 3719.3401 3731.4101]\n",
      "volume \n",
      " [    22300     40600     47600 ... 158154203 173414891 223133406]\n",
      "adjusted_close \n",
      " [6.980000e-02 7.080000e-02 7.140000e-02 ... 1.859275e+02 1.859670e+02\n",
      " 1.865705e+02]\n",
      "change_percent \n",
      " [-24.77 -21.82 -20.91 ...  33.57  34.47    nan]\n",
      "avg_vol_20d \n",
      " [2.53415988e+07 2.64095988e+07 2.73215987e+07 ... 8.24380770e+08\n",
      " 8.32882176e+08            nan]\n"
     ]
    }
   ],
   "source": [
    "# Checking noise values\n",
    "for i in df.columns:\n",
    "    print(i,'\\n', df[i].sort_values().unique())"
   ]
  },
  {
   "cell_type": "code",
   "execution_count": 21,
   "id": "df026cf3",
   "metadata": {},
   "outputs": [
    {
     "data": {
      "text/plain": [
       "date               0\n",
       "open               0\n",
       "high               0\n",
       "low                0\n",
       "close              0\n",
       "volume             0\n",
       "adjusted_close     0\n",
       "change_percent     1\n",
       "avg_vol_20d       19\n",
       "dtype: int64"
      ]
     },
     "execution_count": 21,
     "metadata": {},
     "output_type": "execute_result"
    }
   ],
   "source": [
    "# Checking null values\n",
    "df.isnull().sum()"
   ]
  },
  {
   "cell_type": "code",
   "execution_count": 22,
   "id": "7e5cebea",
   "metadata": {},
   "outputs": [
    {
     "data": {
      "text/html": [
       "<div>\n",
       "<style scoped>\n",
       "    .dataframe tbody tr th:only-of-type {\n",
       "        vertical-align: middle;\n",
       "    }\n",
       "\n",
       "    .dataframe tbody tr th {\n",
       "        vertical-align: top;\n",
       "    }\n",
       "\n",
       "    .dataframe thead th {\n",
       "        text-align: right;\n",
       "    }\n",
       "</style>\n",
       "<table border=\"1\" class=\"dataframe\">\n",
       "  <thead>\n",
       "    <tr style=\"text-align: right;\">\n",
       "      <th></th>\n",
       "      <th>date</th>\n",
       "      <th>open</th>\n",
       "      <th>high</th>\n",
       "      <th>low</th>\n",
       "      <th>close</th>\n",
       "      <th>volume</th>\n",
       "      <th>adjusted_close</th>\n",
       "      <th>change_percent</th>\n",
       "      <th>avg_vol_20d</th>\n",
       "    </tr>\n",
       "  </thead>\n",
       "  <tbody>\n",
       "    <tr>\n",
       "      <th>0</th>\n",
       "      <td>1997-05-15</td>\n",
       "      <td>29.256</td>\n",
       "      <td>30.0</td>\n",
       "      <td>23.124</td>\n",
       "      <td>23.496</td>\n",
       "      <td>6008999</td>\n",
       "      <td>0.0979</td>\n",
       "      <td>NaN</td>\n",
       "      <td>NaN</td>\n",
       "    </tr>\n",
       "  </tbody>\n",
       "</table>\n",
       "</div>"
      ],
      "text/plain": [
       "         date    open  high     low   close   volume  adjusted_close  \\\n",
       "0  1997-05-15  29.256  30.0  23.124  23.496  6008999          0.0979   \n",
       "\n",
       "   change_percent  avg_vol_20d  \n",
       "0             NaN          NaN  "
      ]
     },
     "execution_count": 22,
     "metadata": {},
     "output_type": "execute_result"
    }
   ],
   "source": [
    "df[df['change_percent'].isna()]"
   ]
  },
  {
   "cell_type": "code",
   "execution_count": 23,
   "id": "f21fe5a8",
   "metadata": {},
   "outputs": [
    {
     "data": {
      "text/plain": [
       "date              datetime64[ns]\n",
       "open                     float64\n",
       "high                     float64\n",
       "low                      float64\n",
       "close                    float64\n",
       "volume                     int64\n",
       "adjusted_close           float64\n",
       "change_percent           float64\n",
       "avg_vol_20d              float64\n",
       "dtype: object"
      ]
     },
     "execution_count": 23,
     "metadata": {},
     "output_type": "execute_result"
    }
   ],
   "source": [
    "# Checking data types\n",
    "df.dtypes\n",
    "df['date']=pd.to_datetime(df['date'])\n",
    "df.dtypes"
   ]
  },
  {
   "cell_type": "code",
   "execution_count": null,
   "id": "ff1195ed",
   "metadata": {},
   "outputs": [],
   "source": [
    "# 6.\tWhat is the range of dates included in this dataset?\n",
    "\n",
    "print('Start Date: ', df['date'].min(),'\\n' 'End Date: ', df['date'].max())"
   ]
  },
  {
   "cell_type": "code",
   "execution_count": 28,
   "id": "8bf664c3",
   "metadata": {},
   "outputs": [],
   "source": [
    "# Resetting index\n",
    "df.set_index('date', inplace=True)"
   ]
  },
  {
   "cell_type": "code",
   "execution_count": 29,
   "id": "a721de46",
   "metadata": {},
   "outputs": [
    {
     "data": {
      "text/html": [
       "<div>\n",
       "<style scoped>\n",
       "    .dataframe tbody tr th:only-of-type {\n",
       "        vertical-align: middle;\n",
       "    }\n",
       "\n",
       "    .dataframe tbody tr th {\n",
       "        vertical-align: top;\n",
       "    }\n",
       "\n",
       "    .dataframe thead th {\n",
       "        text-align: right;\n",
       "    }\n",
       "</style>\n",
       "<table border=\"1\" class=\"dataframe\">\n",
       "  <thead>\n",
       "    <tr style=\"text-align: right;\">\n",
       "      <th></th>\n",
       "      <th>open</th>\n",
       "      <th>high</th>\n",
       "      <th>low</th>\n",
       "      <th>close</th>\n",
       "      <th>volume</th>\n",
       "      <th>adjusted_close</th>\n",
       "      <th>change_percent</th>\n",
       "      <th>avg_vol_20d</th>\n",
       "    </tr>\n",
       "  </thead>\n",
       "  <tbody>\n",
       "    <tr>\n",
       "      <th>count</th>\n",
       "      <td>6624.000000</td>\n",
       "      <td>6624.000000</td>\n",
       "      <td>6624.000000</td>\n",
       "      <td>6624.000000</td>\n",
       "      <td>6.624000e+03</td>\n",
       "      <td>6624.000000</td>\n",
       "      <td>6623.000000</td>\n",
       "      <td>6.605000e+03</td>\n",
       "    </tr>\n",
       "    <tr>\n",
       "      <th>mean</th>\n",
       "      <td>565.142232</td>\n",
       "      <td>571.796965</td>\n",
       "      <td>557.794855</td>\n",
       "      <td>564.926385</td>\n",
       "      <td>9.041667e+06</td>\n",
       "      <td>33.097752</td>\n",
       "      <td>0.173209</td>\n",
       "      <td>1.410330e+08</td>\n",
       "    </tr>\n",
       "    <tr>\n",
       "      <th>std</th>\n",
       "      <td>913.956734</td>\n",
       "      <td>923.965791</td>\n",
       "      <td>902.522238</td>\n",
       "      <td>913.187896</td>\n",
       "      <td>1.477155e+07</td>\n",
       "      <td>49.092242</td>\n",
       "      <td>3.587745</td>\n",
       "      <td>1.005681e+08</td>\n",
       "    </tr>\n",
       "    <tr>\n",
       "      <th>min</th>\n",
       "      <td>5.910000</td>\n",
       "      <td>6.100000</td>\n",
       "      <td>5.510000</td>\n",
       "      <td>5.970000</td>\n",
       "      <td>2.230000e+04</td>\n",
       "      <td>0.069800</td>\n",
       "      <td>-24.770000</td>\n",
       "      <td>2.534160e+07</td>\n",
       "    </tr>\n",
       "    <tr>\n",
       "      <th>25%</th>\n",
       "      <td>46.407500</td>\n",
       "      <td>47.628000</td>\n",
       "      <td>45.510000</td>\n",
       "      <td>46.507500</td>\n",
       "      <td>3.392368e+06</td>\n",
       "      <td>2.020500</td>\n",
       "      <td>-1.320000</td>\n",
       "      <td>7.568402e+07</td>\n",
       "    </tr>\n",
       "    <tr>\n",
       "      <th>50%</th>\n",
       "      <td>125.740000</td>\n",
       "      <td>127.955000</td>\n",
       "      <td>123.110000</td>\n",
       "      <td>125.765000</td>\n",
       "      <td>5.305484e+06</td>\n",
       "      <td>6.740000</td>\n",
       "      <td>0.050000</td>\n",
       "      <td>1.158579e+08</td>\n",
       "    </tr>\n",
       "    <tr>\n",
       "      <th>75%</th>\n",
       "      <td>551.880000</td>\n",
       "      <td>559.630000</td>\n",
       "      <td>543.587500</td>\n",
       "      <td>552.625000</td>\n",
       "      <td>8.114409e+06</td>\n",
       "      <td>42.018875</td>\n",
       "      <td>1.480000</td>\n",
       "      <td>1.673753e+08</td>\n",
       "    </tr>\n",
       "    <tr>\n",
       "      <th>max</th>\n",
       "      <td>3744.000100</td>\n",
       "      <td>3773.078100</td>\n",
       "      <td>3696.793100</td>\n",
       "      <td>3731.410100</td>\n",
       "      <td>2.231334e+08</td>\n",
       "      <td>186.570500</td>\n",
       "      <td>34.470000</td>\n",
       "      <td>8.328822e+08</td>\n",
       "    </tr>\n",
       "  </tbody>\n",
       "</table>\n",
       "</div>"
      ],
      "text/plain": [
       "              open         high          low        close        volume  \\\n",
       "count  6624.000000  6624.000000  6624.000000  6624.000000  6.624000e+03   \n",
       "mean    565.142232   571.796965   557.794855   564.926385  9.041667e+06   \n",
       "std     913.956734   923.965791   902.522238   913.187896  1.477155e+07   \n",
       "min       5.910000     6.100000     5.510000     5.970000  2.230000e+04   \n",
       "25%      46.407500    47.628000    45.510000    46.507500  3.392368e+06   \n",
       "50%     125.740000   127.955000   123.110000   125.765000  5.305484e+06   \n",
       "75%     551.880000   559.630000   543.587500   552.625000  8.114409e+06   \n",
       "max    3744.000100  3773.078100  3696.793100  3731.410100  2.231334e+08   \n",
       "\n",
       "       adjusted_close  change_percent   avg_vol_20d  \n",
       "count     6624.000000     6623.000000  6.605000e+03  \n",
       "mean        33.097752        0.173209  1.410330e+08  \n",
       "std         49.092242        3.587745  1.005681e+08  \n",
       "min          0.069800      -24.770000  2.534160e+07  \n",
       "25%          2.020500       -1.320000  7.568402e+07  \n",
       "50%          6.740000        0.050000  1.158579e+08  \n",
       "75%         42.018875        1.480000  1.673753e+08  \n",
       "max        186.570500       34.470000  8.328822e+08  "
      ]
     },
     "execution_count": 29,
     "metadata": {},
     "output_type": "execute_result"
    }
   ],
   "source": [
    "# 5-point summary\n",
    "df.describe()"
   ]
  },
  {
   "cell_type": "code",
   "execution_count": 31,
   "id": "f39a00f0",
   "metadata": {},
   "outputs": [
    {
     "name": "stdout",
     "output_type": "stream",
     "text": [
      "Average closing price:  564.9263849637682\n"
     ]
    }
   ],
   "source": [
    "# 7.\tWhat is the average closing price of Amazon (AMZN) stock over the entire period?\n",
    "\n",
    "print('Average closing price: ', df['close'].mean())"
   ]
  },
  {
   "cell_type": "code",
   "execution_count": 36,
   "id": "7deb0bb4",
   "metadata": {},
   "outputs": [
    {
     "name": "stdout",
     "output_type": "stream",
     "text": [
      "Highest closing price:  3731.4101\n",
      "Date on which highest closing price was maximum:  2021-07-08 00:00:00\n"
     ]
    }
   ],
   "source": [
    "# 8.\tWhat was the highest closing price, and on which date did it occur?\n",
    "\n",
    "print('Highest closing price: ', df['close'].max())\n",
    "print('Date on which highest closing price was maximum: ', df['close'].idxmax())"
   ]
  },
  {
   "cell_type": "code",
   "execution_count": 35,
   "id": "a32dba12",
   "metadata": {},
   "outputs": [
    {
     "data": {
      "text/html": [
       "<div>\n",
       "<style scoped>\n",
       "    .dataframe tbody tr th:only-of-type {\n",
       "        vertical-align: middle;\n",
       "    }\n",
       "\n",
       "    .dataframe tbody tr th {\n",
       "        vertical-align: top;\n",
       "    }\n",
       "\n",
       "    .dataframe thead th {\n",
       "        text-align: right;\n",
       "    }\n",
       "</style>\n",
       "<table border=\"1\" class=\"dataframe\">\n",
       "  <thead>\n",
       "    <tr style=\"text-align: right;\">\n",
       "      <th></th>\n",
       "      <th>open</th>\n",
       "      <th>high</th>\n",
       "      <th>low</th>\n",
       "      <th>close</th>\n",
       "      <th>volume</th>\n",
       "      <th>adjusted_close</th>\n",
       "      <th>change_percent</th>\n",
       "      <th>avg_vol_20d</th>\n",
       "    </tr>\n",
       "    <tr>\n",
       "      <th>date</th>\n",
       "      <th></th>\n",
       "      <th></th>\n",
       "      <th></th>\n",
       "      <th></th>\n",
       "      <th></th>\n",
       "      <th></th>\n",
       "      <th></th>\n",
       "      <th></th>\n",
       "    </tr>\n",
       "  </thead>\n",
       "  <tbody>\n",
       "    <tr>\n",
       "      <th>2021-07-08</th>\n",
       "      <td>3643.5601</td>\n",
       "      <td>3759.9861</td>\n",
       "      <td>3621.1201</td>\n",
       "      <td>3731.4101</td>\n",
       "      <td>5180622</td>\n",
       "      <td>186.5705</td>\n",
       "      <td>0.94</td>\n",
       "      <td>72297711.95</td>\n",
       "    </tr>\n",
       "  </tbody>\n",
       "</table>\n",
       "</div>"
      ],
      "text/plain": [
       "                 open       high        low      close   volume  \\\n",
       "date                                                              \n",
       "2021-07-08  3643.5601  3759.9861  3621.1201  3731.4101  5180622   \n",
       "\n",
       "            adjusted_close  change_percent  avg_vol_20d  \n",
       "date                                                     \n",
       "2021-07-08        186.5705            0.94  72297711.95  "
      ]
     },
     "execution_count": 35,
     "metadata": {},
     "output_type": "execute_result"
    }
   ],
   "source": [
    "# verifying answer\n",
    "df[df['close']==df['close'].max()]"
   ]
  },
  {
   "cell_type": "code",
   "execution_count": 74,
   "id": "dea75b64",
   "metadata": {},
   "outputs": [
    {
     "data": {
      "text/html": [
       "<div>\n",
       "<style scoped>\n",
       "    .dataframe tbody tr th:only-of-type {\n",
       "        vertical-align: middle;\n",
       "    }\n",
       "\n",
       "    .dataframe tbody tr th {\n",
       "        vertical-align: top;\n",
       "    }\n",
       "\n",
       "    .dataframe thead th {\n",
       "        text-align: right;\n",
       "    }\n",
       "</style>\n",
       "<table border=\"1\" class=\"dataframe\">\n",
       "  <thead>\n",
       "    <tr style=\"text-align: right;\">\n",
       "      <th></th>\n",
       "      <th>open</th>\n",
       "      <th>high</th>\n",
       "      <th>low</th>\n",
       "      <th>close</th>\n",
       "      <th>volume</th>\n",
       "      <th>adjusted_close</th>\n",
       "      <th>change_percent</th>\n",
       "      <th>avg_vol_20d</th>\n",
       "      <th>price_diff</th>\n",
       "      <th>avg_close_20d</th>\n",
       "    </tr>\n",
       "    <tr>\n",
       "      <th>date</th>\n",
       "      <th></th>\n",
       "      <th></th>\n",
       "      <th></th>\n",
       "      <th></th>\n",
       "      <th></th>\n",
       "      <th></th>\n",
       "      <th></th>\n",
       "      <th></th>\n",
       "      <th></th>\n",
       "      <th></th>\n",
       "    </tr>\n",
       "  </thead>\n",
       "  <tbody>\n",
       "    <tr>\n",
       "      <th>2023-09-05</th>\n",
       "      <td>137.73</td>\n",
       "      <td>137.80</td>\n",
       "      <td>135.82</td>\n",
       "      <td>137.27</td>\n",
       "      <td>40636700</td>\n",
       "      <td>137.27</td>\n",
       "      <td>-0.62</td>\n",
       "      <td>44306270.0</td>\n",
       "      <td>-0.46</td>\n",
       "      <td>136.0670</td>\n",
       "    </tr>\n",
       "    <tr>\n",
       "      <th>2023-09-06</th>\n",
       "      <td>136.32</td>\n",
       "      <td>137.45</td>\n",
       "      <td>134.61</td>\n",
       "      <td>135.36</td>\n",
       "      <td>41785500</td>\n",
       "      <td>135.36</td>\n",
       "      <td>-1.39</td>\n",
       "      <td>43810020.0</td>\n",
       "      <td>-0.96</td>\n",
       "      <td>135.8380</td>\n",
       "    </tr>\n",
       "    <tr>\n",
       "      <th>2023-09-07</th>\n",
       "      <td>133.90</td>\n",
       "      <td>138.03</td>\n",
       "      <td>133.16</td>\n",
       "      <td>137.85</td>\n",
       "      <td>48498900</td>\n",
       "      <td>137.85</td>\n",
       "      <td>1.84</td>\n",
       "      <td>43734100.0</td>\n",
       "      <td>3.95</td>\n",
       "      <td>135.8380</td>\n",
       "    </tr>\n",
       "    <tr>\n",
       "      <th>2023-09-08</th>\n",
       "      <td>136.86</td>\n",
       "      <td>138.85</td>\n",
       "      <td>136.75</td>\n",
       "      <td>138.23</td>\n",
       "      <td>38348200</td>\n",
       "      <td>138.23</td>\n",
       "      <td>0.28</td>\n",
       "      <td>42705090.0</td>\n",
       "      <td>1.37</td>\n",
       "      <td>135.8215</td>\n",
       "    </tr>\n",
       "    <tr>\n",
       "      <th>2023-09-11</th>\n",
       "      <td>138.75</td>\n",
       "      <td>143.62</td>\n",
       "      <td>138.64</td>\n",
       "      <td>143.10</td>\n",
       "      <td>56698900</td>\n",
       "      <td>143.10</td>\n",
       "      <td>3.52</td>\n",
       "      <td>43398430.0</td>\n",
       "      <td>4.35</td>\n",
       "      <td>136.0560</td>\n",
       "    </tr>\n",
       "  </tbody>\n",
       "</table>\n",
       "</div>"
      ],
      "text/plain": [
       "              open    high     low   close    volume  adjusted_close  \\\n",
       "date                                                                   \n",
       "2023-09-05  137.73  137.80  135.82  137.27  40636700          137.27   \n",
       "2023-09-06  136.32  137.45  134.61  135.36  41785500          135.36   \n",
       "2023-09-07  133.90  138.03  133.16  137.85  48498900          137.85   \n",
       "2023-09-08  136.86  138.85  136.75  138.23  38348200          138.23   \n",
       "2023-09-11  138.75  143.62  138.64  143.10  56698900          143.10   \n",
       "\n",
       "            change_percent  avg_vol_20d  price_diff  avg_close_20d  \n",
       "date                                                                \n",
       "2023-09-05           -0.62   44306270.0       -0.46       136.0670  \n",
       "2023-09-06           -1.39   43810020.0       -0.96       135.8380  \n",
       "2023-09-07            1.84   43734100.0        3.95       135.8380  \n",
       "2023-09-08            0.28   42705090.0        1.37       135.8215  \n",
       "2023-09-11            3.52   43398430.0        4.35       136.0560  "
      ]
     },
     "execution_count": 74,
     "metadata": {},
     "output_type": "execute_result"
    }
   ],
   "source": [
    "# 9.\tCalculate the 20-day rolling average of the 'close' column and create a new column for it.\n",
    "\n",
    "df['avg_close_20d'] = df['close'].rolling(window=20).mean()\n",
    "df.tail(5)"
   ]
  },
  {
   "cell_type": "code",
   "execution_count": 37,
   "id": "40153420",
   "metadata": {},
   "outputs": [
    {
     "data": {
      "text/html": [
       "<div>\n",
       "<style scoped>\n",
       "    .dataframe tbody tr th:only-of-type {\n",
       "        vertical-align: middle;\n",
       "    }\n",
       "\n",
       "    .dataframe tbody tr th {\n",
       "        vertical-align: top;\n",
       "    }\n",
       "\n",
       "    .dataframe thead th {\n",
       "        text-align: right;\n",
       "    }\n",
       "</style>\n",
       "<table border=\"1\" class=\"dataframe\">\n",
       "  <thead>\n",
       "    <tr style=\"text-align: right;\">\n",
       "      <th></th>\n",
       "      <th>close</th>\n",
       "      <th>volume</th>\n",
       "    </tr>\n",
       "  </thead>\n",
       "  <tbody>\n",
       "    <tr>\n",
       "      <th>close</th>\n",
       "      <td>1.00000</td>\n",
       "      <td>-0.17123</td>\n",
       "    </tr>\n",
       "    <tr>\n",
       "      <th>volume</th>\n",
       "      <td>-0.17123</td>\n",
       "      <td>1.00000</td>\n",
       "    </tr>\n",
       "  </tbody>\n",
       "</table>\n",
       "</div>"
      ],
      "text/plain": [
       "          close   volume\n",
       "close   1.00000 -0.17123\n",
       "volume -0.17123  1.00000"
      ]
     },
     "execution_count": 37,
     "metadata": {},
     "output_type": "execute_result"
    }
   ],
   "source": [
    "# 10.\tWhat is the correlation between the 'close' price and the 'volume' of Amazon stock?\n",
    "df[['close','volume']].corr()"
   ]
  },
  {
   "cell_type": "code",
   "execution_count": 38,
   "id": "7ca07364",
   "metadata": {},
   "outputs": [],
   "source": [
    "# 11.\tCreate a new column 'price_diff' that represents the daily price change (close - open).\n",
    "df['price_diff']=df['close']-df['open']"
   ]
  },
  {
   "cell_type": "code",
   "execution_count": 43,
   "id": "d196cf6e",
   "metadata": {},
   "outputs": [
    {
     "name": "stdout",
     "output_type": "stream",
     "text": [
      "No of days having positive price change:  3309\n",
      "No of days having negative price change:  3282\n",
      "No of days having no price change:  33\n"
     ]
    }
   ],
   "source": [
    "# 12.\tHow many days had a positive price change ('price_diff' > 0) and a negative price change ('price_diff' < 0)?\n",
    "\n",
    "print('No of days having positive price change: ', df[df['price_diff'] > 0]['price_diff'].count())\n",
    "print('No of days having negative price change: ', df[df['price_diff'] < 0]['price_diff'].count())\n",
    "print('No of days having no price change: ', df[df['price_diff'] == 0]['price_diff'].count())"
   ]
  },
  {
   "cell_type": "code",
   "execution_count": 76,
   "id": "5f04914a",
   "metadata": {},
   "outputs": [
    {
     "name": "stdout",
     "output_type": "stream",
     "text": [
      "Average Daily Price Change (Positive): 7.043171985494105\n",
      "Average Daily Price Change (Negative): -7.536753290676418\n"
     ]
    }
   ],
   "source": [
    "# 13.\tCalculate the average daily price change for days with positive price change and negative price change.\n",
    "\n",
    "positive_price_change_avg = df[df['price_diff'] > 0]['price_diff'].mean()\n",
    "negative_price_change_avg = df[df['price_diff'] < 0]['price_diff'].mean()\n",
    "\n",
    "print(\"Average Daily Price Change (Positive):\", positive_price_change_avg)\n",
    "print(\"Average Daily Price Change (Negative):\", negative_price_change_avg)"
   ]
  },
  {
   "cell_type": "code",
   "execution_count": 53,
   "id": "b6d138c8",
   "metadata": {},
   "outputs": [
    {
     "data": {
      "image/png": "[encoded data removed]",
      "text/plain": [
       "<Figure size 1200x600 with 1 Axes>"
      ]
     },
     "metadata": {},
     "output_type": "display_data"
    }
   ],
   "source": [
    "# 14.\tPlot a line chart showing the daily closing price of Amazon (AMZN) stock over time.\n",
    "\n",
    "plt.figure(figsize=(12, 6)) \n",
    "plt.plot(df.index, df['close'], label='AMZN Closing Price', color='g')\n",
    "plt.title('Amazon (AMZN) Daily Closing Price Over Time')\n",
    "plt.xlabel('Date')\n",
    "plt.ylabel('Closing Price')\n",
    "plt.grid(True)\n",
    "plt.show()"
   ]
  },
  {
   "cell_type": "code",
   "execution_count": 61,
   "id": "743dad30",
   "metadata": {},
   "outputs": [
    {
     "data": {
      "image/png": "[encoded data removed]",
      "text/plain": [
       "<Figure size 1200x500 with 1 Axes>"
      ]
     },
     "metadata": {},
     "output_type": "display_data"
    }
   ],
   "source": [
    "# 15.\tPlot a histogram of the daily volume of Amazon (AMZN) stock.\n",
    "\n",
    "plt.figure(figsize=(12, 5))\n",
    "sns.histplot(x=df.index, y=df['volume'], bins=50)  \n",
    "plt.title('Distribution of Daily Volume for Amazon (AMZN) Stock')\n",
    "plt.xlabel('Volume')\n",
    "plt.ylabel('Frequency')\n",
    "plt.show()"
   ]
  },
  {
   "cell_type": "code",
   "execution_count": 65,
   "id": "7d86065f",
   "metadata": {},
   "outputs": [
    {
     "data": {
      "image/png": "[encoded data removed]",
      "text/plain": [
       "<Figure size 1200x500 with 1 Axes>"
      ]
     },
     "metadata": {},
     "output_type": "display_data"
    }
   ],
   "source": [
    "# Bar plot\n",
    "yr_vol = df['volume'].resample('Y').sum()\n",
    "\n",
    "plt.figure(figsize=(12, 5))\n",
    "sns.barplot(x=yr_vol.index.year, y=yr_vol.values)\n",
    "plt.title('Yearly Volume of Amazon (AMZN) Stock')\n",
    "plt.xlabel('Year')\n",
    "plt.ylabel('Total Volume')\n",
    "plt.xticks(rotation=45)  \n",
    "plt.show()"
   ]
  },
  {
   "cell_type": "code",
   "execution_count": null,
   "id": "917cc6db",
   "metadata": {},
   "outputs": [],
   "source": [
    "# 16.\tPerform more advanced EDA with pandas and visualization techniques: \n",
    "#     a. Use groupby to calculate the average adjusted close price for each year in the dataset. \n",
    "#     b. Create a line chart to visualize the annual trend in average adjusted close price. \n",
    "#     c. Create a box plot to visualize the distribution of daily price changes ('price_diff')."
   ]
  },
  {
   "cell_type": "code",
   "execution_count": 80,
   "id": "76b2572c",
   "metadata": {},
   "outputs": [
    {
     "data": {
      "text/html": [
       "<div>\n",
       "<style scoped>\n",
       "    .dataframe tbody tr th:only-of-type {\n",
       "        vertical-align: middle;\n",
       "    }\n",
       "\n",
       "    .dataframe tbody tr th {\n",
       "        vertical-align: top;\n",
       "    }\n",
       "\n",
       "    .dataframe thead th {\n",
       "        text-align: right;\n",
       "    }\n",
       "</style>\n",
       "<table border=\"1\" class=\"dataframe\">\n",
       "  <thead>\n",
       "    <tr style=\"text-align: right;\">\n",
       "      <th></th>\n",
       "      <th>date</th>\n",
       "      <th>open</th>\n",
       "      <th>high</th>\n",
       "      <th>low</th>\n",
       "      <th>close</th>\n",
       "      <th>volume</th>\n",
       "      <th>adjusted_close</th>\n",
       "      <th>change_percent</th>\n",
       "      <th>avg_vol_20d</th>\n",
       "      <th>price_diff</th>\n",
       "      <th>avg_close_20d</th>\n",
       "    </tr>\n",
       "  </thead>\n",
       "  <tbody>\n",
       "    <tr>\n",
       "      <th>0</th>\n",
       "      <td>1997-05-15</td>\n",
       "      <td>29.256</td>\n",
       "      <td>30.000</td>\n",
       "      <td>23.124</td>\n",
       "      <td>23.496</td>\n",
       "      <td>6008999</td>\n",
       "      <td>0.0979</td>\n",
       "      <td>NaN</td>\n",
       "      <td>NaN</td>\n",
       "      <td>-5.760</td>\n",
       "      <td>NaN</td>\n",
       "    </tr>\n",
       "    <tr>\n",
       "      <th>1</th>\n",
       "      <td>1997-05-16</td>\n",
       "      <td>23.628</td>\n",
       "      <td>23.748</td>\n",
       "      <td>20.496</td>\n",
       "      <td>20.748</td>\n",
       "      <td>1224999</td>\n",
       "      <td>0.0865</td>\n",
       "      <td>-11.64</td>\n",
       "      <td>NaN</td>\n",
       "      <td>-2.880</td>\n",
       "      <td>NaN</td>\n",
       "    </tr>\n",
       "    <tr>\n",
       "      <th>2</th>\n",
       "      <td>1997-05-19</td>\n",
       "      <td>21.120</td>\n",
       "      <td>21.252</td>\n",
       "      <td>19.500</td>\n",
       "      <td>20.496</td>\n",
       "      <td>508899</td>\n",
       "      <td>0.0854</td>\n",
       "      <td>-1.27</td>\n",
       "      <td>NaN</td>\n",
       "      <td>-0.624</td>\n",
       "      <td>NaN</td>\n",
       "    </tr>\n",
       "    <tr>\n",
       "      <th>3</th>\n",
       "      <td>1997-05-20</td>\n",
       "      <td>20.748</td>\n",
       "      <td>21.000</td>\n",
       "      <td>19.620</td>\n",
       "      <td>19.620</td>\n",
       "      <td>455599</td>\n",
       "      <td>0.0818</td>\n",
       "      <td>-4.22</td>\n",
       "      <td>NaN</td>\n",
       "      <td>-1.128</td>\n",
       "      <td>NaN</td>\n",
       "    </tr>\n",
       "    <tr>\n",
       "      <th>4</th>\n",
       "      <td>1997-05-21</td>\n",
       "      <td>19.620</td>\n",
       "      <td>19.752</td>\n",
       "      <td>16.500</td>\n",
       "      <td>17.124</td>\n",
       "      <td>1571099</td>\n",
       "      <td>0.0714</td>\n",
       "      <td>-12.71</td>\n",
       "      <td>NaN</td>\n",
       "      <td>-2.496</td>\n",
       "      <td>NaN</td>\n",
       "    </tr>\n",
       "  </tbody>\n",
       "</table>\n",
       "</div>"
      ],
      "text/plain": [
       "        date    open    high     low   close   volume  adjusted_close  \\\n",
       "0 1997-05-15  29.256  30.000  23.124  23.496  6008999          0.0979   \n",
       "1 1997-05-16  23.628  23.748  20.496  20.748  1224999          0.0865   \n",
       "2 1997-05-19  21.120  21.252  19.500  20.496   508899          0.0854   \n",
       "3 1997-05-20  20.748  21.000  19.620  19.620   455599          0.0818   \n",
       "4 1997-05-21  19.620  19.752  16.500  17.124  1571099          0.0714   \n",
       "\n",
       "   change_percent  avg_vol_20d  price_diff  avg_close_20d  \n",
       "0             NaN          NaN      -5.760            NaN  \n",
       "1          -11.64          NaN      -2.880            NaN  \n",
       "2           -1.27          NaN      -0.624            NaN  \n",
       "3           -4.22          NaN      -1.128            NaN  \n",
       "4          -12.71          NaN      -2.496            NaN  "
      ]
     },
     "execution_count": 80,
     "metadata": {},
     "output_type": "execute_result"
    }
   ],
   "source": [
    "df.reset_index(inplace=True)\n",
    "df.head()"
   ]
  },
  {
   "cell_type": "code",
   "execution_count": 87,
   "id": "b4baf69b",
   "metadata": {},
   "outputs": [
    {
     "data": {
      "text/html": [
       "<div>\n",
       "<style scoped>\n",
       "    .dataframe tbody tr th:only-of-type {\n",
       "        vertical-align: middle;\n",
       "    }\n",
       "\n",
       "    .dataframe tbody tr th {\n",
       "        vertical-align: top;\n",
       "    }\n",
       "\n",
       "    .dataframe thead th {\n",
       "        text-align: right;\n",
       "    }\n",
       "</style>\n",
       "<table border=\"1\" class=\"dataframe\">\n",
       "  <thead>\n",
       "    <tr style=\"text-align: right;\">\n",
       "      <th></th>\n",
       "      <th>Year</th>\n",
       "      <th>Avg_Adjusted_Close</th>\n",
       "    </tr>\n",
       "  </thead>\n",
       "  <tbody>\n",
       "    <tr>\n",
       "      <th>0</th>\n",
       "      <td>1997</td>\n",
       "      <td>0.156324</td>\n",
       "    </tr>\n",
       "    <tr>\n",
       "      <th>1</th>\n",
       "      <td>1998</td>\n",
       "      <td>0.783080</td>\n",
       "    </tr>\n",
       "    <tr>\n",
       "      <th>2</th>\n",
       "      <td>1999</td>\n",
       "      <td>3.453085</td>\n",
       "    </tr>\n",
       "    <tr>\n",
       "      <th>3</th>\n",
       "      <td>2000</td>\n",
       "      <td>2.326673</td>\n",
       "    </tr>\n",
       "    <tr>\n",
       "      <th>4</th>\n",
       "      <td>2001</td>\n",
       "      <td>0.610025</td>\n",
       "    </tr>\n",
       "  </tbody>\n",
       "</table>\n",
       "</div>"
      ],
      "text/plain": [
       "   Year  Avg_Adjusted_Close\n",
       "0  1997            0.156324\n",
       "1  1998            0.783080\n",
       "2  1999            3.453085\n",
       "3  2000            2.326673\n",
       "4  2001            0.610025"
      ]
     },
     "execution_count": 87,
     "metadata": {},
     "output_type": "execute_result"
    }
   ],
   "source": [
    "# 16.a\n",
    "df16a=df.groupby(df['date'].dt.year)['adjusted_close'].mean().reset_index()\n",
    "df16a.columns = ['Year', 'Avg_Adjusted_Close']\n",
    "df16a.head()"
   ]
  },
  {
   "cell_type": "code",
   "execution_count": 88,
   "id": "af98ac63",
   "metadata": {},
   "outputs": [
    {
     "data": {
      "image/png": "[encoded data removed]",
      "text/plain": [
       "<Figure size 1200x500 with 1 Axes>"
      ]
     },
     "metadata": {},
     "output_type": "display_data"
    }
   ],
   "source": [
    "# 16.b\n",
    "plt.figure(figsize=(12, 5))\n",
    "sns.lineplot(df16a, x='Year', y='Avg_Adjusted_Close')\n",
    "plt.title('Annual Trend in Average Adjusted Close Price')\n",
    "plt.xlabel('Year')\n",
    "plt.ylabel('Average Adjusted Close Price')\n",
    "plt.xticks(rotation=45)  \n",
    "plt.show()"
   ]
  },
  {
   "cell_type": "code",
   "execution_count": 90,
   "id": "39c08cc3",
   "metadata": {},
   "outputs": [
    {
     "data": {
      "image/png": "[encoded data removed]",
      "text/plain": [
       "<Figure size 1200x500 with 1 Axes>"
      ]
     },
     "metadata": {},
     "output_type": "display_data"
    }
   ],
   "source": [
    "# 16.c\n",
    "plt.figure(figsize=(12, 5))\n",
    "sns.boxplot(data=df, x='price_diff')\n",
    "plt.title('Distribution of Daily Price Changes')\n",
    "plt.xlabel('Price Change')\n",
    "plt.show()"
   ]
  },
  {
   "cell_type": "code",
   "execution_count": null,
   "id": "4120cc6f",
   "metadata": {},
   "outputs": [],
   "source": [
    "# 17.\tBased on your analysis, provide insights and observations about the Amazon (AMZN) stock data.\n"
   ]
  },
  {
   "cell_type": "code",
   "execution_count": null,
   "id": "3ee41305",
   "metadata": {},
   "outputs": [],
   "source": []
  },
  {
   "cell_type": "code",
   "execution_count": 77,
   "id": "dd068779",
   "metadata": {},
   "outputs": [
    {
     "data": {
      "text/html": [
       "<div>\n",
       "<style scoped>\n",
       "    .dataframe tbody tr th:only-of-type {\n",
       "        vertical-align: middle;\n",
       "    }\n",
       "\n",
       "    .dataframe tbody tr th {\n",
       "        vertical-align: top;\n",
       "    }\n",
       "\n",
       "    .dataframe thead th {\n",
       "        text-align: right;\n",
       "    }\n",
       "</style>\n",
       "<table border=\"1\" class=\"dataframe\">\n",
       "  <thead>\n",
       "    <tr style=\"text-align: right;\">\n",
       "      <th></th>\n",
       "      <th>open</th>\n",
       "      <th>high</th>\n",
       "      <th>low</th>\n",
       "      <th>close</th>\n",
       "      <th>volume</th>\n",
       "      <th>adjusted_close</th>\n",
       "      <th>change_percent</th>\n",
       "      <th>avg_vol_20d</th>\n",
       "      <th>price_diff</th>\n",
       "      <th>avg_close_20d</th>\n",
       "    </tr>\n",
       "    <tr>\n",
       "      <th>date</th>\n",
       "      <th></th>\n",
       "      <th></th>\n",
       "      <th></th>\n",
       "      <th></th>\n",
       "      <th></th>\n",
       "      <th></th>\n",
       "      <th></th>\n",
       "      <th></th>\n",
       "      <th></th>\n",
       "      <th></th>\n",
       "    </tr>\n",
       "  </thead>\n",
       "  <tbody>\n",
       "    <tr>\n",
       "      <th>1997-05-15</th>\n",
       "      <td>29.256</td>\n",
       "      <td>30.000</td>\n",
       "      <td>23.124</td>\n",
       "      <td>23.496</td>\n",
       "      <td>6008999</td>\n",
       "      <td>0.0979</td>\n",
       "      <td>NaN</td>\n",
       "      <td>NaN</td>\n",
       "      <td>-5.760</td>\n",
       "      <td>NaN</td>\n",
       "    </tr>\n",
       "    <tr>\n",
       "      <th>1997-05-16</th>\n",
       "      <td>23.628</td>\n",
       "      <td>23.748</td>\n",
       "      <td>20.496</td>\n",
       "      <td>20.748</td>\n",
       "      <td>1224999</td>\n",
       "      <td>0.0865</td>\n",
       "      <td>-11.64</td>\n",
       "      <td>NaN</td>\n",
       "      <td>-2.880</td>\n",
       "      <td>NaN</td>\n",
       "    </tr>\n",
       "    <tr>\n",
       "      <th>1997-05-19</th>\n",
       "      <td>21.120</td>\n",
       "      <td>21.252</td>\n",
       "      <td>19.500</td>\n",
       "      <td>20.496</td>\n",
       "      <td>508899</td>\n",
       "      <td>0.0854</td>\n",
       "      <td>-1.27</td>\n",
       "      <td>NaN</td>\n",
       "      <td>-0.624</td>\n",
       "      <td>NaN</td>\n",
       "    </tr>\n",
       "    <tr>\n",
       "      <th>1997-05-20</th>\n",
       "      <td>20.748</td>\n",
       "      <td>21.000</td>\n",
       "      <td>19.620</td>\n",
       "      <td>19.620</td>\n",
       "      <td>455599</td>\n",
       "      <td>0.0818</td>\n",
       "      <td>-4.22</td>\n",
       "      <td>NaN</td>\n",
       "      <td>-1.128</td>\n",
       "      <td>NaN</td>\n",
       "    </tr>\n",
       "    <tr>\n",
       "      <th>1997-05-21</th>\n",
       "      <td>19.620</td>\n",
       "      <td>19.752</td>\n",
       "      <td>16.500</td>\n",
       "      <td>17.124</td>\n",
       "      <td>1571099</td>\n",
       "      <td>0.0714</td>\n",
       "      <td>-12.71</td>\n",
       "      <td>NaN</td>\n",
       "      <td>-2.496</td>\n",
       "      <td>NaN</td>\n",
       "    </tr>\n",
       "  </tbody>\n",
       "</table>\n",
       "</div>"
      ],
      "text/plain": [
       "              open    high     low   close   volume  adjusted_close  \\\n",
       "date                                                                  \n",
       "1997-05-15  29.256  30.000  23.124  23.496  6008999          0.0979   \n",
       "1997-05-16  23.628  23.748  20.496  20.748  1224999          0.0865   \n",
       "1997-05-19  21.120  21.252  19.500  20.496   508899          0.0854   \n",
       "1997-05-20  20.748  21.000  19.620  19.620   455599          0.0818   \n",
       "1997-05-21  19.620  19.752  16.500  17.124  1571099          0.0714   \n",
       "\n",
       "            change_percent  avg_vol_20d  price_diff  avg_close_20d  \n",
       "date                                                                \n",
       "1997-05-15             NaN          NaN      -5.760            NaN  \n",
       "1997-05-16          -11.64          NaN      -2.880            NaN  \n",
       "1997-05-19           -1.27          NaN      -0.624            NaN  \n",
       "1997-05-20           -4.22          NaN      -1.128            NaN  \n",
       "1997-05-21          -12.71          NaN      -2.496            NaN  "
      ]
     },
     "execution_count": 77,
     "metadata": {},
     "output_type": "execute_result"
    }
   ],
   "source": [
    "df.head()"
   ]
  },
  {
   "cell_type": "code",
   "execution_count": 75,
   "id": "d92fdee3",
   "metadata": {},
   "outputs": [
    {
     "data": {
      "text/plain": [
       "Index(['open', 'high', 'low', 'close', 'volume', 'adjusted_close',\n",
       "       'change_percent', 'avg_vol_20d', 'price_diff', 'avg_close_20d'],\n",
       "      dtype='object')"
      ]
     },
     "execution_count": 75,
     "metadata": {},
     "output_type": "execute_result"
    }
   ],
   "source": [
    "df.columns"
   ]
  },
  {
   "cell_type": "code",
   "execution_count": null,
   "id": "275a0ade",
   "metadata": {},
   "outputs": [],
   "source": []
  },
  {
   "cell_type": "code",
   "execution_count": null,
   "id": "5a6b81f0",
   "metadata": {},
   "outputs": [],
   "source": []
  }
 ],
 "metadata": {
  "kernelspec": {
   "display_name": "Python 3 (ipykernel)",
   "language": "python",
   "name": "python3"
  },
  "language_info": {
   "codemirror_mode": {
    "name": "ipython",
    "version": 3
   },
   "file_extension": ".py",
   "mimetype": "text/x-python",
   "name": "python",
   "nbconvert_exporter": "python",
   "pygments_lexer": "ipython3",
   "version": "3.10.8"
  }
 },
 "nbformat": 4,
 "nbformat_minor": 5
}
